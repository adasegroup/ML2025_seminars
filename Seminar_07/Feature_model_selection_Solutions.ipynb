{
  "cells": [
    {
      "cell_type": "markdown",
      "metadata": {
        "id": "b5lOHyprP6Fu"
      },
      "source": [
        "<a href=\"https://colab.research.google.com/github/adasegroup/ML2023_seminars/blob/master/seminar9/seminar_feature_model_selection_solution.ipynb\" target=\"_parent\"><img src=\"https://colab.research.google.com/assets/colab-badge.svg\" alt=\"Open In Colab\"/></a>"
      ]
    },
    {
      "cell_type": "markdown",
      "source": [
        "# **Feature and Model Selection Seminar**  \n",
        "### **Presented by: [Razan Dibo]**  \n",
        "📅 **Date:** [20/02/2025]  \n",
        "🏫 **Email/Affiliation:** [Razan.Dibo@skoltech.ru]  \n",
        "\n",
        "## **Introduction**  \n",
        "Feature selection and model selection are critical steps in machine learning to improve **model performance, reduce overfitting, and enhance interpretability**. This seminar explores key techniques for selecting **relevant features** and choosing the **best model** for a given task.\n",
        "\n",
        "## **Contents**  \n",
        "1- F-test\n",
        "\n",
        "2- SHAP (SHapley Additive exPlanations)\n",
        "\n",
        "3- Mutual Information\n",
        "\n",
        "4- Random Forest based feature importances\n",
        "\n",
        "5- Ordinary Least Squares (OLS) and T-Statistic for Feature Selection\n",
        "\n",
        "6- L1 and L2 regularizations\n",
        "\n",
        "7- Forward-backward methods\n",
        "\n",
        "8- Permutation based feature importance\n",
        "\n",
        "9- RFECV (Recursive Feature Elimination with Cross-Validation)\n",
        "\n",
        "10- AIC and BIC\n",
        "\n",
        "📌 **Objective:** By the end of this seminar, you will understand how to effectively select features to build efficient machine learning models.\n"
      ],
      "metadata": {
        "id": "JE-558-mHsYn"
      }
    },
    {
      "cell_type": "markdown",
      "metadata": {
        "id": "y1h2TffmP6Fz"
      },
      "source": [
        "# Feature selection"
      ]
    },
    {
      "cell_type": "markdown",
      "metadata": {
        "id": "XwQk1Ea5P6Fz"
      },
      "source": [
        "Feature selection is a fundamental step in machine learning that enhances model performance by identifying the most relevant features while discarding redundant or irrelevant ones. A well-applied feature selection strategy improves model efficiency, reduces computational complexity, and provides deeper insights into the underlying data structure. More importantly, it helps refine our intuition about how machine learning algorithms interact with data, leading to more interpretable and generalizable models.\n",
        "\n",
        "Feature selection primarily helps in:\n",
        "\n",
        "1️⃣ Reducing Dimensionality : Prevents overfitting, speeds up training, and improves model generalization.\n",
        "\n",
        "2️⃣ Enhancing Interpretability : Identifies key features, improving insights into data and model transparency."
      ]
    },
    {
      "cell_type": "markdown",
      "metadata": {
        "id": "69AeoX0HP6F0"
      },
      "source": [
        "## **Toy Function**: Synthetic Example with Correlated and Noisy Features  \n",
        "\n",
        "### Mathematical Representation of the Dataset  \n",
        "\n",
        "We define a synthetic dataset with **10 features**, where only **3 features are truly informative**, **3 features are strongly correlated with the informative ones**, and **4 features are random noise**. The target variable \\( y \\) is generated as:  \n",
        "\n",
        "$$\n",
        "y = 3x_1^2 + 2\\sin(2 \\pi x_2) + 5\\log(x_3 + 1) + \\epsilon\n",
        "$$  \n",
        "\n",
        "We generate the dataset as the following table, where $ ϵ ~ \\mathcal{N}(0,1)$:  \n",
        "\n",
        "\n",
        " **Feature Description**  \n",
        "\n",
        "| Feature | Definition | Type | Relationship to $$ y $$ |\n",
        "|----------|------------------------------|-------------------|----------------|\n",
        "| $$ x_1 $$  | $$ \\text{Uniform}(-3,3) $$  | **Informative**  | Quadratic term in $$ y $$ |\n",
        "| $$ x_2 $$  | $$ \\text{Uniform}(0,1) $$  | **Informative**  | Nonlinear sine transformation |\n",
        "| $$ x_3 $$  | $$ \\text{Uniform}(0,2) $$  | **Informative**  | Logarithmic contribution |\n",
        "| $$ x_4 $$  | $$ \\mathcal{N}(0,0.01) $$  | **Noise**  | Irrelevant to $$ y $$ |\n",
        "| $$ x_5 $$  | $$ \\text{Uniform}(-5,5) $$  | **Noise**  | Irrelevant to $$ y $$ |\n",
        "| $$ x_6 $$  | $$ \\text{Exponential}(1) $$  | **Noise**  | Irrelevant to $$ y $$ |\n",
        "| $$ x_7 $$  | $$ \\text{Integer}(-10,10) $$  | **Noise**  | Irrelevant to $$ y $$ |\n",
        "| $$ x_8 $$  | $$ x_1 + \\mathcal{N}(0,0.1) $$  | **Correlated**  | Strongly correlated with $$ x_1 $$ |\n",
        "| $$ x_9 $$  | $$ 2x_2 + \\mathcal{N}(0,0.2) $$  | **Correlated**  | Strongly correlated with $$ x_2 $$ |\n",
        "| $$ x_{10} $$ | $$ \\log(|x_3|) + \\mathcal{N}(0,0.1) $$  | **Correlated**  | Strongly correlated with $$ x_3 $$ |\n",
        "\n"
      ]
    },
    {
      "cell_type": "code",
      "execution_count": 1,
      "metadata": {
        "id": "hPGtK06dP6F1"
      },
      "outputs": [],
      "source": [
        "import numpy as np\n",
        "import matplotlib.pyplot as plt\n",
        "\n",
        "%matplotlib inline\n",
        "\n",
        "\n",
        "def function(x, sigma_noise=1, random_state=None):\n",
        "    if random_state is None:\n",
        "        random_state = np.random.RandomState(42)\n",
        "\n",
        "    y = (3 * x[:, 0]**2\n",
        "         + 2 * np.sin(2 * np.pi * x[:, 1])\n",
        "         + 5 * np.log(x[:, 2] + 1)\n",
        "         + random_state.normal(0, sigma_noise, size=(len(x)))\n",
        "         )\n",
        "    return y"
      ]
    },
    {
      "cell_type": "markdown",
      "metadata": {
        "id": "GvP2Dq6kP6F2"
      },
      "source": [
        "Let's generate training, validation and test sets"
      ]
    },
    {
      "cell_type": "code",
      "execution_count": 2,
      "metadata": {
        "colab": {
          "base_uri": "https://localhost:8080/"
        },
        "id": "-fI6M5x4P6F3",
        "outputId": "07632c19-9798-45c3-b18b-13967eac7462"
      },
      "outputs": [
        {
          "output_type": "stream",
          "name": "stdout",
          "text": [
            "(1500, 10)\n",
            "X_train shape: (735, 10), X_val shape: (315, 10), X_test shape: (450, 10)\n",
            "y shape: (1500,)\n"
          ]
        }
      ],
      "source": [
        "from sklearn.model_selection import train_test_split\n",
        "\n",
        "np.random.seed(42)\n",
        "random_state = np.random.RandomState(42)\n",
        "size = 1500\n",
        "\n",
        "X = random_state.rand(size, 10)\n",
        "print(X.shape)\n",
        "X[:, 0] = 6 * X[:, 0] - 3\n",
        "X[:, 1] = X[:, 1] # No change\n",
        "X[:, 2] = 2 * X[:, 2]\n",
        "\n",
        "# Add irrelevant features\n",
        "X[:, 3] = random_state.normal(0, 0.01, size=(size))\n",
        "X[:, 4] = 10 * X[:, 4] - 5\n",
        "X[:, 5] = random_state.exponential(1, size=(size))\n",
        "X[:, 6] = random_state.randint(-10, 10, size=(size))\n",
        "\n",
        "# Add correlated features\n",
        "X[:, 7] = X[:, 0] + random_state.normal(0, 0.1, size=(size))\n",
        "X[:, 8] = 2 * X[:, 1] + random_state.normal(0, 0.2, size=(size))\n",
        "X[:, 9] = np.log(np.abs(X[:, 2])) + random_state.normal(0, 0.1, size=(size))\n",
        "\n",
        "y = function(X, sigma_noise=0.01, random_state=random_state)\n",
        "\n",
        "# Splitting the dataset\n",
        "X_train, X_test, y_train, y_test = train_test_split(X, y, test_size=0.3, random_state=random_state)\n",
        "X_train, X_val, y_train, y_val = train_test_split(X_train, y_train, test_size=0.3, random_state=random_state)\n",
        "\n",
        "print(f\"X_train shape: {X_train.shape}, X_val shape: {X_val.shape}, X_test shape: {X_test.shape}\")\n",
        "print(f\"y shape: {y.shape}\")"
      ]
    },
    {
      "cell_type": "markdown",
      "source": [
        "# 1. Fundamental Statistical Tests (Basic Evaluation of Feature Relevance)\n",
        "\n",
        "1- F-test\n",
        "\n",
        "2- Mutual Information\n",
        "\n",
        "3- Ordinary Least Squares (OLS) and T-Statistic"
      ],
      "metadata": {
        "id": "rpYiJgDX2eGf"
      }
    },
    {
      "cell_type": "markdown",
      "metadata": {
        "id": "StUitZCTP6F4"
      },
      "source": [
        "## F-test based feature importances\n",
        "\n",
        "F_regression creates simple linear regressions of each feature x and the dependent/target variable Y.\n",
        "\n",
        "Each feature is tested individually, meaning if you have p features, it will test p separate models.\n",
        "\n",
        "For each model, it computes how much variance in Y is explained by that feature versus how much is left unexplained (residual variance).\n",
        "\n",
        "\n",
        "The F-statistic compares the variance explained by $X_j$ with the variance of the residuals. It is given by:\n",
        "\n",
        "$ F = \\frac{\\text{Explained Variance by } X_j}{\\text{Unexplained Variance (Residual Variance)}} $\n",
        "\n",
        "Mathematically,\n",
        "\n",
        "$ F = \\frac{\\frac{\\text{SSR}}{1}}{\\frac{\\text{SSE}}{n - 2}} = \\frac{\\text{SSR} \\cdot (n - 2)}{\\text{SSE}} $\n",
        "\n",
        "where:\n",
        "\n",
        "- **SSR (Sum of Squares Regression)**: Variance explained by $X_j$:\n",
        "\n",
        "  $ \\text{SSR} = \\sum (\\hat{Y} - \\bar{Y})^2 $\n",
        "\n",
        "- **SSE (Sum of Squares Error)**: Variance not explained by $X_j$:\n",
        "\n",
        "  $ \\text{SSE} = \\sum (Y - \\hat{Y})^2 $\n",
        "\n",
        "- $n$ is the number of samples.\n",
        "\n",
        "This follows an F-distribution with degrees of freedom $(1, n - 2)$.\n",
        "\n",
        "where:\n",
        "\n",
        "- $Y$ represents the actual observed values.\n",
        "- $\\bar{Y}$ denotes the mean of the observed values.\n",
        "- $\\hat{Y}$ signifies the predicted values from the regression model.\n",
        "\n",
        "Notes:\n",
        "\n",
        "* higher F-statistic >> the feature explains more variance\n",
        "\n",
        "* A higher F-value increases the likelihood of rejecting the null hypothesis (which states that the new features do not improve the model).\n"
      ]
    },
    {
      "cell_type": "markdown",
      "metadata": {
        "id": "aPdm3bjtP6F5"
      },
      "source": [
        "Now, let's apply F-test to the generated data and analyze results"
      ]
    },
    {
      "cell_type": "code",
      "source": [
        "from sklearn.feature_selection import f_regression\n",
        "from sklearn.preprocessing import MinMaxScaler, StandardScaler\n",
        "import pandas as pd\n",
        "\n",
        "feature_names = np.array(\n",
        "    ['x1', 'x2', 'x3', 'x4_irrelevant', 'x5_irrelevant', 'x6_irrelevant', 'x7_irrelevant',\n",
        "     'x8_corr_x1', 'x9_corr_x2', 'x10_corr_x3']\n",
        ")\n",
        "\n",
        "\n",
        "f_values, p_values = f_regression(X_train, y_train)\n",
        "\n",
        "feature_scores = pd.DataFrame({'F test': f_values, 'p-value': p_values}, index=feature_names)\n",
        "\n",
        "scaler = MinMaxScaler() # yiu can use StandardScaler()\n",
        "feature_scores['F test'] = scaler.fit_transform(feature_scores[['F test']])\n",
        "\n",
        "feature_scores.style.format(precision=2).background_gradient(cmap='Reds', high=1.01)\n"
      ],
      "metadata": {
        "colab": {
          "base_uri": "https://localhost:8080/",
          "height": 0
        },
        "id": "6FRBQmJw6Oug",
        "outputId": "a8b42575-ffc6-4360-c819-3c06967cfeef"
      },
      "execution_count": 4,
      "outputs": [
        {
          "output_type": "execute_result",
          "data": {
            "text/plain": [
              "<pandas.io.formats.style.Styler at 0x7a91ce81a250>"
            ],
            "text/html": [
              "<style type=\"text/css\">\n",
              "#T_2542e_row0_col0, #T_2542e_row1_col1, #T_2542e_row2_col1, #T_2542e_row4_col0, #T_2542e_row6_col0, #T_2542e_row7_col0, #T_2542e_row8_col1, #T_2542e_row9_col1 {\n",
              "  background-color: #fff5f0;\n",
              "  color: #000000;\n",
              "}\n",
              "#T_2542e_row0_col1 {\n",
              "  background-color: #fc8969;\n",
              "  color: #f1f1f1;\n",
              "}\n",
              "#T_2542e_row1_col0 {\n",
              "  background-color: #fca285;\n",
              "  color: #000000;\n",
              "}\n",
              "#T_2542e_row2_col0, #T_2542e_row6_col1 {\n",
              "  background-color: #fb6b4b;\n",
              "  color: #f1f1f1;\n",
              "}\n",
              "#T_2542e_row3_col0 {\n",
              "  background-color: #fff4ee;\n",
              "  color: #000000;\n",
              "}\n",
              "#T_2542e_row3_col1 {\n",
              "  background-color: #fcbba1;\n",
              "  color: #000000;\n",
              "}\n",
              "#T_2542e_row4_col1 {\n",
              "  background-color: #fc9c7d;\n",
              "  color: #000000;\n",
              "}\n",
              "#T_2542e_row5_col0 {\n",
              "  background-color: #fff4ef;\n",
              "  color: #000000;\n",
              "}\n",
              "#T_2542e_row5_col1 {\n",
              "  background-color: #fcb499;\n",
              "  color: #000000;\n",
              "}\n",
              "#T_2542e_row7_col1, #T_2542e_row9_col0 {\n",
              "  background-color: #fc8a6a;\n",
              "  color: #f1f1f1;\n",
              "}\n",
              "#T_2542e_row8_col0 {\n",
              "  background-color: #fca689;\n",
              "  color: #000000;\n",
              "}\n",
              "</style>\n",
              "<table id=\"T_2542e\" class=\"dataframe\">\n",
              "  <thead>\n",
              "    <tr>\n",
              "      <th class=\"blank level0\" >&nbsp;</th>\n",
              "      <th id=\"T_2542e_level0_col0\" class=\"col_heading level0 col0\" >F test</th>\n",
              "      <th id=\"T_2542e_level0_col1\" class=\"col_heading level0 col1\" >p-value</th>\n",
              "    </tr>\n",
              "  </thead>\n",
              "  <tbody>\n",
              "    <tr>\n",
              "      <th id=\"T_2542e_level0_row0\" class=\"row_heading level0 row0\" >x1</th>\n",
              "      <td id=\"T_2542e_row0_col0\" class=\"data row0 col0\" >0.00</td>\n",
              "      <td id=\"T_2542e_row0_col1\" class=\"data row0 col1\" >0.76</td>\n",
              "    </tr>\n",
              "    <tr>\n",
              "      <th id=\"T_2542e_level0_row1\" class=\"row_heading level0 row1\" >x2</th>\n",
              "      <td id=\"T_2542e_row1_col0\" class=\"data row1 col0\" >0.66</td>\n",
              "      <td id=\"T_2542e_row1_col1\" class=\"data row1 col1\" >0.00</td>\n",
              "    </tr>\n",
              "    <tr>\n",
              "      <th id=\"T_2542e_level0_row2\" class=\"row_heading level0 row2\" >x3</th>\n",
              "      <td id=\"T_2542e_row2_col0\" class=\"data row2 col0\" >1.00</td>\n",
              "      <td id=\"T_2542e_row2_col1\" class=\"data row2 col1\" >0.00</td>\n",
              "    </tr>\n",
              "    <tr>\n",
              "      <th id=\"T_2542e_level0_row3\" class=\"row_heading level0 row3\" >x4_irrelevant</th>\n",
              "      <td id=\"T_2542e_row3_col0\" class=\"data row3 col0\" >0.02</td>\n",
              "      <td id=\"T_2542e_row3_col1\" class=\"data row3 col1\" >0.47</td>\n",
              "    </tr>\n",
              "    <tr>\n",
              "      <th id=\"T_2542e_level0_row4\" class=\"row_heading level0 row4\" >x5_irrelevant</th>\n",
              "      <td id=\"T_2542e_row4_col0\" class=\"data row4 col0\" >0.01</td>\n",
              "      <td id=\"T_2542e_row4_col1\" class=\"data row4 col1\" >0.65</td>\n",
              "    </tr>\n",
              "    <tr>\n",
              "      <th id=\"T_2542e_level0_row5\" class=\"row_heading level0 row5\" >x6_irrelevant</th>\n",
              "      <td id=\"T_2542e_row5_col0\" class=\"data row5 col0\" >0.01</td>\n",
              "      <td id=\"T_2542e_row5_col1\" class=\"data row5 col1\" >0.51</td>\n",
              "    </tr>\n",
              "    <tr>\n",
              "      <th id=\"T_2542e_level0_row6\" class=\"row_heading level0 row6\" >x7_irrelevant</th>\n",
              "      <td id=\"T_2542e_row6_col0\" class=\"data row6 col0\" >0.00</td>\n",
              "      <td id=\"T_2542e_row6_col1\" class=\"data row6 col1\" >0.93</td>\n",
              "    </tr>\n",
              "    <tr>\n",
              "      <th id=\"T_2542e_level0_row7\" class=\"row_heading level0 row7\" >x8_corr_x1</th>\n",
              "      <td id=\"T_2542e_row7_col0\" class=\"data row7 col0\" >0.00</td>\n",
              "      <td id=\"T_2542e_row7_col1\" class=\"data row7 col1\" >0.75</td>\n",
              "    </tr>\n",
              "    <tr>\n",
              "      <th id=\"T_2542e_level0_row8\" class=\"row_heading level0 row8\" >x9_corr_x2</th>\n",
              "      <td id=\"T_2542e_row8_col0\" class=\"data row8 col0\" >0.63</td>\n",
              "      <td id=\"T_2542e_row8_col1\" class=\"data row8 col1\" >0.00</td>\n",
              "    </tr>\n",
              "    <tr>\n",
              "      <th id=\"T_2542e_level0_row9\" class=\"row_heading level0 row9\" >x10_corr_x3</th>\n",
              "      <td id=\"T_2542e_row9_col0\" class=\"data row9 col0\" >0.81</td>\n",
              "      <td id=\"T_2542e_row9_col1\" class=\"data row9 col1\" >0.00</td>\n",
              "    </tr>\n",
              "  </tbody>\n",
              "</table>\n"
            ]
          },
          "metadata": {},
          "execution_count": 4
        }
      ]
    },
    {
      "cell_type": "markdown",
      "metadata": {
        "id": "cB8nQO4aP6F6"
      },
      "source": [
        "**Conclusion**:\n",
        "It only captures linear relationships.\n",
        "\n",
        "It does not consider feature interactions.\n",
        "\n",
        "If features are highly correlated, they may receive similar F-values."
      ]
    },
    {
      "cell_type": "markdown",
      "metadata": {
        "id": "IJqAsXn-P6F6"
      },
      "source": [
        "## Mutual Information (MI)\n",
        "\n",
        "Mutual Information measures how much information a feature $ X $ contains about the target variable $ Y $, capturing both linear and non-linear dependencies.\n",
        "\n",
        "The formula for MI is:\n",
        "\n",
        "$\n",
        "MI(X, Y) = H(Y) - H(Y | X) = \\sum_{x, y} p(x, y) \\log \\frac{p(x, y)}{p(x)p(y)} = D_{KL}(p(x, y) \\, ||  \\, p(x)p(y)),\n",
        "$\n",
        "\n",
        "### Key Insights:\n",
        "- **$ MI(X, Y) = 0 $**: $ X $ and $ Y $ are **independent**.\n",
        "- **Higher MI values**: Stronger **dependence** between $ X $ and $ Y $.\n"
      ]
    },
    {
      "cell_type": "markdown",
      "metadata": {
        "id": "8-FS78pfP6F7"
      },
      "source": [
        "#### Let's compare F-test and Mutual Information"
      ]
    },
    {
      "cell_type": "code",
      "execution_count": 5,
      "metadata": {
        "colab": {
          "base_uri": "https://localhost:8080/",
          "height": 0
        },
        "id": "SdDOYa-jP6F7",
        "outputId": "a6c5f2e2-f22d-443e-c81b-0173d1ec2729"
      },
      "outputs": [
        {
          "output_type": "execute_result",
          "data": {
            "text/plain": [
              "<pandas.io.formats.style.Styler at 0x7a91ce8a5d10>"
            ],
            "text/html": [
              "<style type=\"text/css\">\n",
              "#T_3d2d0_row0_col0, #T_3d2d0_row4_col0, #T_3d2d0_row4_col1, #T_3d2d0_row6_col0, #T_3d2d0_row6_col1, #T_3d2d0_row7_col0 {\n",
              "  background-color: #fff5f0;\n",
              "  color: #000000;\n",
              "}\n",
              "#T_3d2d0_row0_col1, #T_3d2d0_row2_col0 {\n",
              "  background-color: #fb6b4b;\n",
              "  color: #f1f1f1;\n",
              "}\n",
              "#T_3d2d0_row1_col0 {\n",
              "  background-color: #fca285;\n",
              "  color: #000000;\n",
              "}\n",
              "#T_3d2d0_row1_col1 {\n",
              "  background-color: #fff2eb;\n",
              "  color: #000000;\n",
              "}\n",
              "#T_3d2d0_row2_col1 {\n",
              "  background-color: #fff0e8;\n",
              "  color: #000000;\n",
              "}\n",
              "#T_3d2d0_row3_col0, #T_3d2d0_row8_col1 {\n",
              "  background-color: #fff4ee;\n",
              "  color: #000000;\n",
              "}\n",
              "#T_3d2d0_row3_col1 {\n",
              "  background-color: #fff3ed;\n",
              "  color: #000000;\n",
              "}\n",
              "#T_3d2d0_row5_col0, #T_3d2d0_row5_col1 {\n",
              "  background-color: #fff4ef;\n",
              "  color: #000000;\n",
              "}\n",
              "#T_3d2d0_row7_col1 {\n",
              "  background-color: #fb7656;\n",
              "  color: #f1f1f1;\n",
              "}\n",
              "#T_3d2d0_row8_col0 {\n",
              "  background-color: #fca689;\n",
              "  color: #000000;\n",
              "}\n",
              "#T_3d2d0_row9_col0 {\n",
              "  background-color: #fc8a6a;\n",
              "  color: #f1f1f1;\n",
              "}\n",
              "#T_3d2d0_row9_col1 {\n",
              "  background-color: #fff2ec;\n",
              "  color: #000000;\n",
              "}\n",
              "</style>\n",
              "<table id=\"T_3d2d0\" class=\"dataframe\">\n",
              "  <thead>\n",
              "    <tr>\n",
              "      <th class=\"blank level0\" >&nbsp;</th>\n",
              "      <th id=\"T_3d2d0_level0_col0\" class=\"col_heading level0 col0\" >F test</th>\n",
              "      <th id=\"T_3d2d0_level0_col1\" class=\"col_heading level0 col1\" >Mutual Information</th>\n",
              "    </tr>\n",
              "  </thead>\n",
              "  <tbody>\n",
              "    <tr>\n",
              "      <th id=\"T_3d2d0_level0_row0\" class=\"row_heading level0 row0\" >x1</th>\n",
              "      <td id=\"T_3d2d0_row0_col0\" class=\"data row0 col0\" >0.00</td>\n",
              "      <td id=\"T_3d2d0_row0_col1\" class=\"data row0 col1\" >1.00</td>\n",
              "    </tr>\n",
              "    <tr>\n",
              "      <th id=\"T_3d2d0_level0_row1\" class=\"row_heading level0 row1\" >x2</th>\n",
              "      <td id=\"T_3d2d0_row1_col0\" class=\"data row1 col0\" >0.66</td>\n",
              "      <td id=\"T_3d2d0_row1_col1\" class=\"data row1 col1\" >0.04</td>\n",
              "    </tr>\n",
              "    <tr>\n",
              "      <th id=\"T_3d2d0_level0_row2\" class=\"row_heading level0 row2\" >x3</th>\n",
              "      <td id=\"T_3d2d0_row2_col0\" class=\"data row2 col0\" >1.00</td>\n",
              "      <td id=\"T_3d2d0_row2_col1\" class=\"data row2 col1\" >0.07</td>\n",
              "    </tr>\n",
              "    <tr>\n",
              "      <th id=\"T_3d2d0_level0_row3\" class=\"row_heading level0 row3\" >x4_irrelevant</th>\n",
              "      <td id=\"T_3d2d0_row3_col0\" class=\"data row3 col0\" >0.02</td>\n",
              "      <td id=\"T_3d2d0_row3_col1\" class=\"data row3 col1\" >0.03</td>\n",
              "    </tr>\n",
              "    <tr>\n",
              "      <th id=\"T_3d2d0_level0_row4\" class=\"row_heading level0 row4\" >x5_irrelevant</th>\n",
              "      <td id=\"T_3d2d0_row4_col0\" class=\"data row4 col0\" >0.01</td>\n",
              "      <td id=\"T_3d2d0_row4_col1\" class=\"data row4 col1\" >0.00</td>\n",
              "    </tr>\n",
              "    <tr>\n",
              "      <th id=\"T_3d2d0_level0_row5\" class=\"row_heading level0 row5\" >x6_irrelevant</th>\n",
              "      <td id=\"T_3d2d0_row5_col0\" class=\"data row5 col0\" >0.01</td>\n",
              "      <td id=\"T_3d2d0_row5_col1\" class=\"data row5 col1\" >0.01</td>\n",
              "    </tr>\n",
              "    <tr>\n",
              "      <th id=\"T_3d2d0_level0_row6\" class=\"row_heading level0 row6\" >x7_irrelevant</th>\n",
              "      <td id=\"T_3d2d0_row6_col0\" class=\"data row6 col0\" >0.00</td>\n",
              "      <td id=\"T_3d2d0_row6_col1\" class=\"data row6 col1\" >0.00</td>\n",
              "    </tr>\n",
              "    <tr>\n",
              "      <th id=\"T_3d2d0_level0_row7\" class=\"row_heading level0 row7\" >x8_corr_x1</th>\n",
              "      <td id=\"T_3d2d0_row7_col0\" class=\"data row7 col0\" >0.00</td>\n",
              "      <td id=\"T_3d2d0_row7_col1\" class=\"data row7 col1\" >0.93</td>\n",
              "    </tr>\n",
              "    <tr>\n",
              "      <th id=\"T_3d2d0_level0_row8\" class=\"row_heading level0 row8\" >x9_corr_x2</th>\n",
              "      <td id=\"T_3d2d0_row8_col0\" class=\"data row8 col0\" >0.63</td>\n",
              "      <td id=\"T_3d2d0_row8_col1\" class=\"data row8 col1\" >0.02</td>\n",
              "    </tr>\n",
              "    <tr>\n",
              "      <th id=\"T_3d2d0_level0_row9\" class=\"row_heading level0 row9\" >x10_corr_x3</th>\n",
              "      <td id=\"T_3d2d0_row9_col0\" class=\"data row9 col0\" >0.81</td>\n",
              "      <td id=\"T_3d2d0_row9_col1\" class=\"data row9 col1\" >0.03</td>\n",
              "    </tr>\n",
              "  </tbody>\n",
              "</table>\n"
            ]
          },
          "metadata": {},
          "execution_count": 5
        }
      ],
      "source": [
        "from sklearn.feature_selection import mutual_info_regression\n",
        "\n",
        "\n",
        "method_name = 'Mutual Information'\n",
        "\n",
        "#start here\n",
        "# feature_scores[method_name] =\n",
        "# scale it\n",
        "feature_scores[method_name] = mutual_info_regression(X_train, y_train)\n",
        "\n",
        "feature_scores = feature_scores.drop(columns=['p-value'])\n",
        "\n",
        "feature_scores[method_name] = scaler.fit_transform(feature_scores[[method_name]])\n",
        "# end here\n",
        "feature_scores.style.format(precision=2).background_gradient(cmap='Reds', high=1.01)\n"
      ]
    },
    {
      "cell_type": "markdown",
      "source": [
        "**Conclusion**:\n",
        "\n",
        "- it can identify complex relationships between variables (non-linear).\n",
        "\n",
        "- If features are highly correlated, they may receive all high MI values."
      ],
      "metadata": {
        "id": "sUPk6vFvR12G"
      }
    },
    {
      "cell_type": "markdown",
      "source": [
        "## Ordinary Least Squares (OLS) and T-Statistic for Feature Selection**\n",
        "\n",
        "**Ordinary Least Squares (OLS)** is a fundamental regression method that estimates the relationship between independent variables ($X$) and a dependent variable ($y$). The OLS model minimizes the **sum of squared errors (SSE)** to find the best-fitting line:\n",
        "\n",
        "$$\n",
        "y =  X \\beta+ \\epsilon\n",
        "$$\n",
        "\n",
        "where:\n",
        "- $\\beta$ is the **feature coefficients**. $p * 1$\n",
        "- $\\epsilon$ is the **error term**. $n * 1$\n",
        "- $ X $ is the predictors $n * p$\n",
        "- $ y $ is observed values $n * 1$\n",
        "\n",
        "\n",
        "The **t-statistic** evaluates the significance of each feature in the regression model using the formula:\n",
        "\n",
        "$$\n",
        "t_i = \\frac{\\hat{\\beta}_i}{SE(\\hat{\\beta}_i)}\n",
        "$$\n",
        "\n",
        "where:\n",
        "- $\\hat{\\beta}_i$ is the estimated coefficient.\n",
        "- $SE(\\hat{\\beta}_i)$ is the standard error of the coefficient.\n",
        "\n",
        "A **higher absolute t-statistic** ($|t| > 2$) and a **low p-value** ($ p < 0.05 $) indicate that the feature significantly contributes to the model.\n"
      ],
      "metadata": {
        "id": "VzhtEZOqOt_Z"
      }
    },
    {
      "cell_type": "code",
      "source": [
        "import statsmodels.api as sm\n",
        "# example\n",
        "np.random.seed(0)\n",
        "X_new = np.random.rand(100, 3)\n",
        "y_new = 3*X_new[:, 0] + 5*X_new[:, 1] + 2*X_new[:, 2] + np.random.randn(100) * 0.5\n",
        "\n",
        "X_new = sm.add_constant(X_new)\n",
        "\n",
        "model_new = sm.OLS(y_new, X_new).fit()\n",
        "\n",
        "coefficients = model_new.params\n",
        "print(f'Feature coefficients: {coefficients}')\n",
        "print(model_new.summary())"
      ],
      "metadata": {
        "colab": {
          "base_uri": "https://localhost:8080/"
        },
        "id": "Gn8WCN-kAwhZ",
        "outputId": "06d5d33b-1657-4e22-a4db-3ecc7754b05c"
      },
      "execution_count": 6,
      "outputs": [
        {
          "output_type": "stream",
          "name": "stdout",
          "text": [
            "Feature coefficients: [-0.02489305  2.79566239  4.98997832  2.12661549]\n",
            "                            OLS Regression Results                            \n",
            "==============================================================================\n",
            "Dep. Variable:                      y   R-squared:                       0.936\n",
            "Model:                            OLS   Adj. R-squared:                  0.934\n",
            "Method:                 Least Squares   F-statistic:                     470.2\n",
            "Date:                Thu, 20 Feb 2025   Prob (F-statistic):           3.07e-57\n",
            "Time:                        18:55:40   Log-Likelihood:                -65.325\n",
            "No. Observations:                 100   AIC:                             138.7\n",
            "Df Residuals:                      96   BIC:                             149.1\n",
            "Df Model:                           3                                         \n",
            "Covariance Type:            nonrobust                                         \n",
            "==============================================================================\n",
            "                 coef    std err          t      P>|t|      [0.025      0.975]\n",
            "------------------------------------------------------------------------------\n",
            "const         -0.0249      0.149     -0.168      0.867      -0.320       0.270\n",
            "x1             2.7957      0.162     17.262      0.000       2.474       3.117\n",
            "x2             4.9900      0.163     30.574      0.000       4.666       5.314\n",
            "x3             2.1266      0.172     12.360      0.000       1.785       2.468\n",
            "==============================================================================\n",
            "Omnibus:                        0.268   Durbin-Watson:                   2.444\n",
            "Prob(Omnibus):                  0.875   Jarque-Bera (JB):                0.049\n",
            "Skew:                           0.036   Prob(JB):                        0.976\n",
            "Kurtosis:                       3.080   Cond. No.                         6.19\n",
            "==============================================================================\n",
            "\n",
            "Notes:\n",
            "[1] Standard Errors assume that the covariance matrix of the errors is correctly specified.\n"
          ]
        }
      ]
    },
    {
      "cell_type": "code",
      "source": [
        "# Add intercept (bias term) for OLS model\n",
        "X_sm = sm.add_constant(X_train)\n",
        "y_sm = y_train\n",
        "\n",
        "model = sm.OLS(y_sm, X_sm).fit()\n",
        "\n",
        "print(model.summary())\n",
        "#model.params\n",
        "#model.tvalues\n",
        "#model.pvalues"
      ],
      "metadata": {
        "colab": {
          "base_uri": "https://localhost:8080/"
        },
        "id": "5mKBHoERBEi1",
        "outputId": "e0204da0-c586-4926-dc85-9d9d65a888b4"
      },
      "execution_count": 7,
      "outputs": [
        {
          "output_type": "stream",
          "name": "stdout",
          "text": [
            "                            OLS Regression Results                            \n",
            "==============================================================================\n",
            "Dep. Variable:                      y   R-squared:                       0.073\n",
            "Model:                            OLS   Adj. R-squared:                  0.060\n",
            "Method:                 Least Squares   F-statistic:                     5.692\n",
            "Date:                Thu, 20 Feb 2025   Prob (F-statistic):           3.04e-08\n",
            "Time:                        18:55:40   Log-Likelihood:                -2556.0\n",
            "No. Observations:                 735   AIC:                             5134.\n",
            "Df Residuals:                     724   BIC:                             5185.\n",
            "Df Model:                          10                                         \n",
            "Covariance Type:            nonrobust                                         \n",
            "==============================================================================\n",
            "                 coef    std err          t      P>|t|      [0.025      0.975]\n",
            "------------------------------------------------------------------------------\n",
            "const         12.1499      1.323      9.181      0.000       9.552      14.748\n",
            "x1             1.4983      2.800      0.535      0.593      -3.998       6.994\n",
            "x2            -3.6734      3.179     -1.156      0.248      -9.915       2.568\n",
            "x3             2.3075      0.991      2.329      0.020       0.362       4.253\n",
            "x4            30.9365     30.857      1.003      0.316     -29.643      91.516\n",
            "x5            -0.0036      0.103     -0.035      0.972      -0.205       0.198\n",
            "x6             0.0872      0.317      0.275      0.783      -0.535       0.709\n",
            "x7            -0.0134      0.051     -0.263      0.792      -0.113       0.087\n",
            "x8            -1.5480      2.798     -0.553      0.580      -7.040       3.944\n",
            "x9            -0.4870      1.493     -0.326      0.744      -3.419       2.445\n",
            "x10            0.3887      0.582      0.668      0.505      -0.754       1.532\n",
            "==============================================================================\n",
            "Omnibus:                       79.349   Durbin-Watson:                   2.091\n",
            "Prob(Omnibus):                  0.000   Jarque-Bera (JB):               71.818\n",
            "Skew:                           0.691   Prob(JB):                     2.54e-16\n",
            "Kurtosis:                       2.342   Cond. No.                         614.\n",
            "==============================================================================\n",
            "\n",
            "Notes:\n",
            "[1] Standard Errors assume that the covariance matrix of the errors is correctly specified.\n"
          ]
        }
      ]
    },
    {
      "cell_type": "code",
      "source": [
        "from sklearn.preprocessing import StandardScaler\n",
        "import statsmodels.api as sm\n",
        "\n",
        "X_train_scaled = scaler.fit_transform(X_train)\n",
        "\n",
        "# Add intercept manually for OLS\n",
        "X_train_scaled = sm.add_constant(X_train_scaled)\n",
        "\n",
        "# Fit OLS model\n",
        "model_scaled = sm.OLS(y_train, X_train_scaled).fit()\n",
        "\n",
        "print(model_scaled.summary())"
      ],
      "metadata": {
        "colab": {
          "base_uri": "https://localhost:8080/"
        },
        "id": "Tj_Lqa_-G1IS",
        "outputId": "6404abcf-ab29-4cef-c7a6-32447f879a88"
      },
      "execution_count": 8,
      "outputs": [
        {
          "output_type": "stream",
          "name": "stdout",
          "text": [
            "                            OLS Regression Results                            \n",
            "==============================================================================\n",
            "Dep. Variable:                      y   R-squared:                       0.073\n",
            "Model:                            OLS   Adj. R-squared:                  0.060\n",
            "Method:                 Least Squares   F-statistic:                     5.692\n",
            "Date:                Thu, 20 Feb 2025   Prob (F-statistic):           3.04e-08\n",
            "Time:                        18:55:40   Log-Likelihood:                -2556.0\n",
            "No. Observations:                 735   AIC:                             5134.\n",
            "Df Residuals:                     724   BIC:                             5185.\n",
            "Df Model:                          10                                         \n",
            "Covariance Type:            nonrobust                                         \n",
            "==============================================================================\n",
            "                 coef    std err          t      P>|t|      [0.025      0.975]\n",
            "------------------------------------------------------------------------------\n",
            "const          9.8303      3.233      3.041      0.002       3.484      16.177\n",
            "x1             8.9327     16.691      0.535      0.593     -23.835      41.701\n",
            "x2            -3.6723      3.178     -1.156      0.248      -9.912       2.567\n",
            "x3             4.6061      1.978      2.329      0.020       0.723       8.489\n",
            "x4             1.7556      1.751      1.003      0.316      -1.682       5.193\n",
            "x5            -0.0363      1.025     -0.035      0.972      -2.049       1.976\n",
            "x6             0.5974      2.172      0.275      0.783      -3.666       4.861\n",
            "x7            -0.2548      0.967     -0.263      0.792      -2.153       1.644\n",
            "x8            -9.7319     17.587     -0.553      0.580     -44.260      24.796\n",
            "x9            -1.5044      4.613     -0.326      0.744     -10.560       7.552\n",
            "x10            2.8113      4.211      0.668      0.505      -5.455      11.078\n",
            "==============================================================================\n",
            "Omnibus:                       79.349   Durbin-Watson:                   2.091\n",
            "Prob(Omnibus):                  0.000   Jarque-Bera (JB):               71.818\n",
            "Skew:                           0.691   Prob(JB):                     2.54e-16\n",
            "Kurtosis:                       2.342   Cond. No.                         161.\n",
            "==============================================================================\n",
            "\n",
            "Notes:\n",
            "[1] Standard Errors assume that the covariance matrix of the errors is correctly specified.\n"
          ]
        }
      ]
    },
    {
      "cell_type": "markdown",
      "source": [
        "**Conclusion**:\n",
        "\n",
        "- it's more suitable for linear relationships between the features and the target.\n",
        "\n",
        "- If features are highly correlated, it can lead to unstable coefficient estimates."
      ],
      "metadata": {
        "id": "FuTWa7mYUKBz"
      }
    },
    {
      "cell_type": "markdown",
      "metadata": {
        "id": "Fqziv9w1P6F9"
      },
      "source": [
        "# 2. Regularization-Based feature Selection (Shrinkage Methods)\n",
        "\n",
        "Regularization adds penalty to a model in order to prevent overfitting and improve generalization.  \n",
        "\n",
        "* Instead of minimizing a loss function $L(X,Y)$, we minimize $L(X,Y)+\\alpha\\|\\beta\\|$,\n",
        "    * where $\\beta$ is the vector of model coefficients,\n",
        "    * $\\|\\cdot\\|$ is typically L1 or L2 norm\n",
        "    * $\\alpha$ is a parameter, specifying the amount of regularization ($\\alpha = 0$ implies no regularization).\n",
        "\n",
        "- **L1 norm** ($\\|\\beta\\|_1 = \\sum |\\beta_i|$) – used in **Lasso**.\n",
        "- **L2 norm** ($\\|\\beta\\|_2^2 = \\sum \\beta_i^2$) – used in **Ridge Regression**.\n",
        "\n"
      ]
    },
    {
      "cell_type": "code",
      "execution_count": 8,
      "metadata": {
        "colab": {
          "base_uri": "https://localhost:8080/",
          "height": 420
        },
        "id": "K8R05yRSP6F9",
        "outputId": "338ad5fe-37b9-4fc0-8482-5e8b068d3436",
        "scrolled": true
      },
      "outputs": [
        {
          "output_type": "stream",
          "name": "stderr",
          "text": [
            "/usr/local/lib/python3.11/dist-packages/sklearn/linear_model/_coordinate_descent.py:695: ConvergenceWarning: Objective did not converge. You might want to increase the number of iterations, check the scale of the features or consider increasing regularisation. Duality gap: 6.056e+02, tolerance: 4.867e+00\n",
            "  model = cd_fast.enet_coordinate_descent(\n"
          ]
        },
        {
          "output_type": "execute_result",
          "data": {
            "text/plain": [
              "<pandas.io.formats.style.Styler at 0x7ce6402273d0>"
            ],
            "text/html": [
              "<style type=\"text/css\">\n",
              "#T_74ee2_row0_col0, #T_74ee2_row4_col0, #T_74ee2_row4_col1, #T_74ee2_row4_col2, #T_74ee2_row6_col0, #T_74ee2_row6_col1, #T_74ee2_row7_col0 {\n",
              "  background-color: #fff5f0;\n",
              "  color: #000000;\n",
              "}\n",
              "#T_74ee2_row0_col1, #T_74ee2_row2_col0, #T_74ee2_row7_col2 {\n",
              "  background-color: #fb6b4b;\n",
              "  color: #f1f1f1;\n",
              "}\n",
              "#T_74ee2_row0_col2 {\n",
              "  background-color: #fb7252;\n",
              "  color: #f1f1f1;\n",
              "}\n",
              "#T_74ee2_row1_col0, #T_74ee2_row2_col2 {\n",
              "  background-color: #fca285;\n",
              "  color: #000000;\n",
              "}\n",
              "#T_74ee2_row1_col1 {\n",
              "  background-color: #fff2eb;\n",
              "  color: #000000;\n",
              "}\n",
              "#T_74ee2_row1_col2 {\n",
              "  background-color: #fcb89e;\n",
              "  color: #000000;\n",
              "}\n",
              "#T_74ee2_row2_col1 {\n",
              "  background-color: #fff0e8;\n",
              "  color: #000000;\n",
              "}\n",
              "#T_74ee2_row3_col0, #T_74ee2_row8_col1 {\n",
              "  background-color: #fff4ee;\n",
              "  color: #000000;\n",
              "}\n",
              "#T_74ee2_row3_col1 {\n",
              "  background-color: #fff3ed;\n",
              "  color: #000000;\n",
              "}\n",
              "#T_74ee2_row3_col2 {\n",
              "  background-color: #feeae0;\n",
              "  color: #000000;\n",
              "}\n",
              "#T_74ee2_row5_col0, #T_74ee2_row5_col1 {\n",
              "  background-color: #fff4ef;\n",
              "  color: #000000;\n",
              "}\n",
              "#T_74ee2_row5_col2, #T_74ee2_row6_col2, #T_74ee2_row9_col1 {\n",
              "  background-color: #fff2ec;\n",
              "  color: #000000;\n",
              "}\n",
              "#T_74ee2_row7_col1 {\n",
              "  background-color: #fb7656;\n",
              "  color: #f1f1f1;\n",
              "}\n",
              "#T_74ee2_row8_col0 {\n",
              "  background-color: #fca689;\n",
              "  color: #000000;\n",
              "}\n",
              "#T_74ee2_row8_col2 {\n",
              "  background-color: #fee9df;\n",
              "  color: #000000;\n",
              "}\n",
              "#T_74ee2_row9_col0 {\n",
              "  background-color: #fc8a6a;\n",
              "  color: #f1f1f1;\n",
              "}\n",
              "#T_74ee2_row9_col2 {\n",
              "  background-color: #fee6da;\n",
              "  color: #000000;\n",
              "}\n",
              "</style>\n",
              "<table id=\"T_74ee2\" class=\"dataframe\">\n",
              "  <thead>\n",
              "    <tr>\n",
              "      <th class=\"blank level0\" >&nbsp;</th>\n",
              "      <th id=\"T_74ee2_level0_col0\" class=\"col_heading level0 col0\" >F test</th>\n",
              "      <th id=\"T_74ee2_level0_col1\" class=\"col_heading level0 col1\" >Mutual Information</th>\n",
              "      <th id=\"T_74ee2_level0_col2\" class=\"col_heading level0 col2\" >Lasso</th>\n",
              "    </tr>\n",
              "  </thead>\n",
              "  <tbody>\n",
              "    <tr>\n",
              "      <th id=\"T_74ee2_level0_row0\" class=\"row_heading level0 row0\" >x1</th>\n",
              "      <td id=\"T_74ee2_row0_col0\" class=\"data row0 col0\" >0.0027</td>\n",
              "      <td id=\"T_74ee2_row0_col1\" class=\"data row0 col1\" >1.0</td>\n",
              "      <td id=\"T_74ee2_row0_col2\" class=\"data row0 col2\" >0.96</td>\n",
              "    </tr>\n",
              "    <tr>\n",
              "      <th id=\"T_74ee2_level0_row1\" class=\"row_heading level0 row1\" >x2</th>\n",
              "      <td id=\"T_74ee2_row1_col0\" class=\"data row1 col0\" >0.66</td>\n",
              "      <td id=\"T_74ee2_row1_col1\" class=\"data row1 col1\" >0.044</td>\n",
              "      <td id=\"T_74ee2_row1_col2\" class=\"data row1 col2\" >0.52</td>\n",
              "    </tr>\n",
              "    <tr>\n",
              "      <th id=\"T_74ee2_level0_row2\" class=\"row_heading level0 row2\" >x3</th>\n",
              "      <td id=\"T_74ee2_row2_col0\" class=\"data row2 col0\" >1.0</td>\n",
              "      <td id=\"T_74ee2_row2_col1\" class=\"data row2 col1\" >0.066</td>\n",
              "      <td id=\"T_74ee2_row2_col2\" class=\"data row2 col2\" >0.66</td>\n",
              "    </tr>\n",
              "    <tr>\n",
              "      <th id=\"T_74ee2_level0_row3\" class=\"row_heading level0 row3\" >x4_irrelevant</th>\n",
              "      <td id=\"T_74ee2_row3_col0\" class=\"data row3 col0\" >0.016</td>\n",
              "      <td id=\"T_74ee2_row3_col1\" class=\"data row3 col1\" >0.028</td>\n",
              "      <td id=\"T_74ee2_row3_col2\" class=\"data row3 col2\" >0.14</td>\n",
              "    </tr>\n",
              "    <tr>\n",
              "      <th id=\"T_74ee2_level0_row4\" class=\"row_heading level0 row4\" >x5_irrelevant</th>\n",
              "      <td id=\"T_74ee2_row4_col0\" class=\"data row4 col0\" >0.0062</td>\n",
              "      <td id=\"T_74ee2_row4_col1\" class=\"data row4 col1\" >0.0</td>\n",
              "      <td id=\"T_74ee2_row4_col2\" class=\"data row4 col2\" >0.0</td>\n",
              "    </tr>\n",
              "    <tr>\n",
              "      <th id=\"T_74ee2_level0_row5\" class=\"row_heading level0 row5\" >x6_irrelevant</th>\n",
              "      <td id=\"T_74ee2_row5_col0\" class=\"data row5 col0\" >0.013</td>\n",
              "      <td id=\"T_74ee2_row5_col1\" class=\"data row5 col1\" >0.014</td>\n",
              "      <td id=\"T_74ee2_row5_col2\" class=\"data row5 col2\" >0.032</td>\n",
              "    </tr>\n",
              "    <tr>\n",
              "      <th id=\"T_74ee2_level0_row6\" class=\"row_heading level0 row6\" >x7_irrelevant</th>\n",
              "      <td id=\"T_74ee2_row6_col0\" class=\"data row6 col0\" >0.0</td>\n",
              "      <td id=\"T_74ee2_row6_col1\" class=\"data row6 col1\" >0.0</td>\n",
              "      <td id=\"T_74ee2_row6_col2\" class=\"data row6 col2\" >0.033</td>\n",
              "    </tr>\n",
              "    <tr>\n",
              "      <th id=\"T_74ee2_level0_row7\" class=\"row_heading level0 row7\" >x8_corr_x1</th>\n",
              "      <td id=\"T_74ee2_row7_col0\" class=\"data row7 col0\" >0.0029</td>\n",
              "      <td id=\"T_74ee2_row7_col1\" class=\"data row7 col1\" >0.93</td>\n",
              "      <td id=\"T_74ee2_row7_col2\" class=\"data row7 col2\" >1.0</td>\n",
              "    </tr>\n",
              "    <tr>\n",
              "      <th id=\"T_74ee2_level0_row8\" class=\"row_heading level0 row8\" >x9_corr_x2</th>\n",
              "      <td id=\"T_74ee2_row8_col0\" class=\"data row8 col0\" >0.63</td>\n",
              "      <td id=\"T_74ee2_row8_col1\" class=\"data row8 col1\" >0.02</td>\n",
              "      <td id=\"T_74ee2_row8_col2\" class=\"data row8 col2\" >0.14</td>\n",
              "    </tr>\n",
              "    <tr>\n",
              "      <th id=\"T_74ee2_level0_row9\" class=\"row_heading level0 row9\" >x10_corr_x3</th>\n",
              "      <td id=\"T_74ee2_row9_col0\" class=\"data row9 col0\" >0.81</td>\n",
              "      <td id=\"T_74ee2_row9_col1\" class=\"data row9 col1\" >0.034</td>\n",
              "      <td id=\"T_74ee2_row9_col2\" class=\"data row9 col2\" >0.18</td>\n",
              "    </tr>\n",
              "  </tbody>\n",
              "</table>\n"
            ]
          },
          "metadata": {},
          "execution_count": 8
        }
      ],
      "source": [
        "from sklearn.pipeline import make_pipeline\n",
        "from sklearn.linear_model import Lasso, Ridge\n",
        "\n",
        "lasso = make_pipeline(StandardScaler(with_mean=False), Lasso(alpha=0.001)).fit(X_train, y_train)\n",
        "feature_scores['Lasso'] = scaler.fit_transform(np.abs(lasso['lasso'].coef_).reshape(-1, 1))\n",
        "feature_scores.style.format(\"{:.2}\").background_gradient(cmap='Reds', high=1.01)"
      ]
    },
    {
      "cell_type": "markdown",
      "metadata": {
        "id": "pO3mMjJYP6F9"
      },
      "source": [
        "### Task\n",
        "\n",
        "What if we remove correlated component?\n",
        "\n",
        "1. Build `RidgeRegression` model using all features. Check coefficients for features `x3` and `corr(x3)`.\n",
        "2. Build `RidgeRegression` model without the last feature. Check coefficient for feature `x3`.\n",
        "3. What can you conclude?"
      ]
    },
    {
      "cell_type": "code",
      "source": [
        "# start your code for all features\n",
        "ridge = make_pipeline(StandardScaler(with_mean=False), Ridge(alpha=0.001)).fit(X_train, y_train)\n",
        "feature_scores['Ridge'] = scaler.fit_transform(np.abs(ridge['ridge'].coef_).reshape(-1, 1))\n",
        "feature_scores.style.format(precision=2).background_gradient(cmap='Reds', high=1.01)\n",
        "# end your code"
      ],
      "metadata": {
        "colab": {
          "base_uri": "https://localhost:8080/",
          "height": 363
        },
        "id": "xSk4R13lPjQ9",
        "outputId": "a8caf4b5-90f8-4ca4-c686-a20f91bcd4b7"
      },
      "execution_count": 9,
      "outputs": [
        {
          "output_type": "execute_result",
          "data": {
            "text/plain": [
              "<pandas.io.formats.style.Styler at 0x7ce64029a390>"
            ],
            "text/html": [
              "<style type=\"text/css\">\n",
              "#T_da4b8_row0_col0, #T_da4b8_row4_col0, #T_da4b8_row4_col1, #T_da4b8_row4_col2, #T_da4b8_row4_col3, #T_da4b8_row6_col0, #T_da4b8_row6_col1, #T_da4b8_row7_col0 {\n",
              "  background-color: #fff5f0;\n",
              "  color: #000000;\n",
              "}\n",
              "#T_da4b8_row0_col1, #T_da4b8_row2_col0, #T_da4b8_row7_col2, #T_da4b8_row7_col3 {\n",
              "  background-color: #fb6b4b;\n",
              "  color: #f1f1f1;\n",
              "}\n",
              "#T_da4b8_row0_col2 {\n",
              "  background-color: #fb7252;\n",
              "  color: #f1f1f1;\n",
              "}\n",
              "#T_da4b8_row0_col3 {\n",
              "  background-color: #fb7050;\n",
              "  color: #f1f1f1;\n",
              "}\n",
              "#T_da4b8_row1_col0, #T_da4b8_row2_col2 {\n",
              "  background-color: #fca285;\n",
              "  color: #000000;\n",
              "}\n",
              "#T_da4b8_row1_col1 {\n",
              "  background-color: #fff2eb;\n",
              "  color: #000000;\n",
              "}\n",
              "#T_da4b8_row1_col2 {\n",
              "  background-color: #fcb89e;\n",
              "  color: #000000;\n",
              "}\n",
              "#T_da4b8_row1_col3 {\n",
              "  background-color: #fdcab5;\n",
              "  color: #000000;\n",
              "}\n",
              "#T_da4b8_row2_col1 {\n",
              "  background-color: #fff0e8;\n",
              "  color: #000000;\n",
              "}\n",
              "#T_da4b8_row2_col3 {\n",
              "  background-color: #fcbba1;\n",
              "  color: #000000;\n",
              "}\n",
              "#T_da4b8_row3_col0, #T_da4b8_row8_col1 {\n",
              "  background-color: #fff4ee;\n",
              "  color: #000000;\n",
              "}\n",
              "#T_da4b8_row3_col1, #T_da4b8_row5_col3, #T_da4b8_row6_col3 {\n",
              "  background-color: #fff3ed;\n",
              "  color: #000000;\n",
              "}\n",
              "#T_da4b8_row3_col2 {\n",
              "  background-color: #feeae0;\n",
              "  color: #000000;\n",
              "}\n",
              "#T_da4b8_row3_col3 {\n",
              "  background-color: #ffece4;\n",
              "  color: #000000;\n",
              "}\n",
              "#T_da4b8_row5_col0, #T_da4b8_row5_col1 {\n",
              "  background-color: #fff4ef;\n",
              "  color: #000000;\n",
              "}\n",
              "#T_da4b8_row5_col2, #T_da4b8_row6_col2, #T_da4b8_row9_col1 {\n",
              "  background-color: #fff2ec;\n",
              "  color: #000000;\n",
              "}\n",
              "#T_da4b8_row7_col1 {\n",
              "  background-color: #fb7656;\n",
              "  color: #f1f1f1;\n",
              "}\n",
              "#T_da4b8_row8_col0 {\n",
              "  background-color: #fca689;\n",
              "  color: #000000;\n",
              "}\n",
              "#T_da4b8_row8_col2, #T_da4b8_row9_col3 {\n",
              "  background-color: #fee9df;\n",
              "  color: #000000;\n",
              "}\n",
              "#T_da4b8_row8_col3 {\n",
              "  background-color: #ffece3;\n",
              "  color: #000000;\n",
              "}\n",
              "#T_da4b8_row9_col0 {\n",
              "  background-color: #fc8a6a;\n",
              "  color: #f1f1f1;\n",
              "}\n",
              "#T_da4b8_row9_col2 {\n",
              "  background-color: #fee6da;\n",
              "  color: #000000;\n",
              "}\n",
              "</style>\n",
              "<table id=\"T_da4b8\" class=\"dataframe\">\n",
              "  <thead>\n",
              "    <tr>\n",
              "      <th class=\"blank level0\" >&nbsp;</th>\n",
              "      <th id=\"T_da4b8_level0_col0\" class=\"col_heading level0 col0\" >F test</th>\n",
              "      <th id=\"T_da4b8_level0_col1\" class=\"col_heading level0 col1\" >Mutual Information</th>\n",
              "      <th id=\"T_da4b8_level0_col2\" class=\"col_heading level0 col2\" >Lasso</th>\n",
              "      <th id=\"T_da4b8_level0_col3\" class=\"col_heading level0 col3\" >Ridge</th>\n",
              "    </tr>\n",
              "  </thead>\n",
              "  <tbody>\n",
              "    <tr>\n",
              "      <th id=\"T_da4b8_level0_row0\" class=\"row_heading level0 row0\" >x1</th>\n",
              "      <td id=\"T_da4b8_row0_col0\" class=\"data row0 col0\" >0.00</td>\n",
              "      <td id=\"T_da4b8_row0_col1\" class=\"data row0 col1\" >1.00</td>\n",
              "      <td id=\"T_da4b8_row0_col2\" class=\"data row0 col2\" >0.96</td>\n",
              "      <td id=\"T_da4b8_row0_col3\" class=\"data row0 col3\" >0.97</td>\n",
              "    </tr>\n",
              "    <tr>\n",
              "      <th id=\"T_da4b8_level0_row1\" class=\"row_heading level0 row1\" >x2</th>\n",
              "      <td id=\"T_da4b8_row1_col0\" class=\"data row1 col0\" >0.66</td>\n",
              "      <td id=\"T_da4b8_row1_col1\" class=\"data row1 col1\" >0.04</td>\n",
              "      <td id=\"T_da4b8_row1_col2\" class=\"data row1 col2\" >0.52</td>\n",
              "      <td id=\"T_da4b8_row1_col3\" class=\"data row1 col3\" >0.41</td>\n",
              "    </tr>\n",
              "    <tr>\n",
              "      <th id=\"T_da4b8_level0_row2\" class=\"row_heading level0 row2\" >x3</th>\n",
              "      <td id=\"T_da4b8_row2_col0\" class=\"data row2 col0\" >1.00</td>\n",
              "      <td id=\"T_da4b8_row2_col1\" class=\"data row2 col1\" >0.07</td>\n",
              "      <td id=\"T_da4b8_row2_col2\" class=\"data row2 col2\" >0.66</td>\n",
              "      <td id=\"T_da4b8_row2_col3\" class=\"data row2 col3\" >0.51</td>\n",
              "    </tr>\n",
              "    <tr>\n",
              "      <th id=\"T_da4b8_level0_row3\" class=\"row_heading level0 row3\" >x4_irrelevant</th>\n",
              "      <td id=\"T_da4b8_row3_col0\" class=\"data row3 col0\" >0.02</td>\n",
              "      <td id=\"T_da4b8_row3_col1\" class=\"data row3 col1\" >0.03</td>\n",
              "      <td id=\"T_da4b8_row3_col2\" class=\"data row3 col2\" >0.14</td>\n",
              "      <td id=\"T_da4b8_row3_col3\" class=\"data row3 col3\" >0.11</td>\n",
              "    </tr>\n",
              "    <tr>\n",
              "      <th id=\"T_da4b8_level0_row4\" class=\"row_heading level0 row4\" >x5_irrelevant</th>\n",
              "      <td id=\"T_da4b8_row4_col0\" class=\"data row4 col0\" >0.01</td>\n",
              "      <td id=\"T_da4b8_row4_col1\" class=\"data row4 col1\" >0.00</td>\n",
              "      <td id=\"T_da4b8_row4_col2\" class=\"data row4 col2\" >0.00</td>\n",
              "      <td id=\"T_da4b8_row4_col3\" class=\"data row4 col3\" >0.00</td>\n",
              "    </tr>\n",
              "    <tr>\n",
              "      <th id=\"T_da4b8_level0_row5\" class=\"row_heading level0 row5\" >x6_irrelevant</th>\n",
              "      <td id=\"T_da4b8_row5_col0\" class=\"data row5 col0\" >0.01</td>\n",
              "      <td id=\"T_da4b8_row5_col1\" class=\"data row5 col1\" >0.01</td>\n",
              "      <td id=\"T_da4b8_row5_col2\" class=\"data row5 col2\" >0.03</td>\n",
              "      <td id=\"T_da4b8_row5_col3\" class=\"data row5 col3\" >0.03</td>\n",
              "    </tr>\n",
              "    <tr>\n",
              "      <th id=\"T_da4b8_level0_row6\" class=\"row_heading level0 row6\" >x7_irrelevant</th>\n",
              "      <td id=\"T_da4b8_row6_col0\" class=\"data row6 col0\" >0.00</td>\n",
              "      <td id=\"T_da4b8_row6_col1\" class=\"data row6 col1\" >0.00</td>\n",
              "      <td id=\"T_da4b8_row6_col2\" class=\"data row6 col2\" >0.03</td>\n",
              "      <td id=\"T_da4b8_row6_col3\" class=\"data row6 col3\" >0.03</td>\n",
              "    </tr>\n",
              "    <tr>\n",
              "      <th id=\"T_da4b8_level0_row7\" class=\"row_heading level0 row7\" >x8_corr_x1</th>\n",
              "      <td id=\"T_da4b8_row7_col0\" class=\"data row7 col0\" >0.00</td>\n",
              "      <td id=\"T_da4b8_row7_col1\" class=\"data row7 col1\" >0.93</td>\n",
              "      <td id=\"T_da4b8_row7_col2\" class=\"data row7 col2\" >1.00</td>\n",
              "      <td id=\"T_da4b8_row7_col3\" class=\"data row7 col3\" >1.00</td>\n",
              "    </tr>\n",
              "    <tr>\n",
              "      <th id=\"T_da4b8_level0_row8\" class=\"row_heading level0 row8\" >x9_corr_x2</th>\n",
              "      <td id=\"T_da4b8_row8_col0\" class=\"data row8 col0\" >0.63</td>\n",
              "      <td id=\"T_da4b8_row8_col1\" class=\"data row8 col1\" >0.02</td>\n",
              "      <td id=\"T_da4b8_row8_col2\" class=\"data row8 col2\" >0.14</td>\n",
              "      <td id=\"T_da4b8_row8_col3\" class=\"data row8 col3\" >0.11</td>\n",
              "    </tr>\n",
              "    <tr>\n",
              "      <th id=\"T_da4b8_level0_row9\" class=\"row_heading level0 row9\" >x10_corr_x3</th>\n",
              "      <td id=\"T_da4b8_row9_col0\" class=\"data row9 col0\" >0.81</td>\n",
              "      <td id=\"T_da4b8_row9_col1\" class=\"data row9 col1\" >0.03</td>\n",
              "      <td id=\"T_da4b8_row9_col2\" class=\"data row9 col2\" >0.18</td>\n",
              "      <td id=\"T_da4b8_row9_col3\" class=\"data row9 col3\" >0.14</td>\n",
              "    </tr>\n",
              "  </tbody>\n",
              "</table>\n"
            ]
          },
          "metadata": {},
          "execution_count": 9
        }
      ]
    },
    {
      "cell_type": "code",
      "execution_count": 10,
      "metadata": {
        "colab": {
          "base_uri": "https://localhost:8080/"
        },
        "id": "qQJeaAc7P6F-",
        "outputId": "57d54208-d745-4e0f-ebb4-fe77b776cd38"
      },
      "outputs": [
        {
          "output_type": "stream",
          "name": "stdout",
          "text": [
            "[[0.63209295]]\n",
            "[[0.50683425]\n",
            " [0.141182  ]]\n"
          ]
        }
      ],
      "source": [
        "# Your code here without last feature\n",
        "model = make_pipeline(StandardScaler(with_mean=False), Ridge(alpha=1)).fit(X_train[:, :-1], y_train)\n",
        "print(scaler.transform(np.abs(model['ridge'].coef_[[2]]).reshape(-1, 1)))\n",
        "\n",
        "model = make_pipeline(StandardScaler(with_mean=False), Ridge(alpha=1)).fit(X_train, y_train)\n",
        "print(scaler.transform(np.abs(model['ridge'].coef_[[2, -1]]).reshape(-1, 1)))\n",
        "#np.sum(lasso['lasso'].coef_ == 0)"
      ]
    },
    {
      "cell_type": "markdown",
      "source": [
        "**Conclusion**:\n",
        "* **Lasso** efficiently **zeros out** coefficients, RidgeRegression makes them smaller but typically non-zero.\n",
        "* $\\rightarrow$ Lasso can be used for feature selection by removing unimportatnt features.\n",
        "* $\\rightarrow$ Ridge can be used to control multicollinearity and to prevent overfitting"
      ],
      "metadata": {
        "id": "IeR-inKuV1o_"
      }
    },
    {
      "cell_type": "markdown",
      "source": [
        "# 3. Model-Based feature Selection (Using ML models)"
      ],
      "metadata": {
        "id": "76zI_t4VELvk"
      }
    },
    {
      "cell_type": "markdown",
      "source": [
        "## Random Forest based feature importances"
      ],
      "metadata": {
        "id": "b6LQtVgoNlJj"
      }
    },
    {
      "cell_type": "markdown",
      "metadata": {
        "id": "c_E9cnBWP6F8"
      },
      "source": [
        "## Mean Decrease in Impurity (MDI) - Gini Importance\n",
        "\n",
        "In Random Forests, feature importance can be calculated in different ways, and one of the most common methods is **Mean Decrease in Impurity (MDI)**, also known as **Gini Importance**.\n",
        "\n",
        "MDI measures how much each feature contributes to reducing the impurity (or uncertainty) of the model’s predictions. This is done by examining how often a feature is used to split the data across all trees in the forest and how much it improves the model's performance.\n",
        "\n",
        "The main idea behind MDI is that the more a feature is used in the decision-making process (splits), and the more it helps to reduce uncertainty or error in the predictions, the higher its importance.\n",
        "\n",
        "How?\n",
        "\n",
        "1. **Splitting Nodes**: In each decision tree, the algorithm splits the data at each node using a feature. The feature used for the split is selected based on how well it reduces impurity (Gini index).\n",
        "  \n",
        "2. **Calculating Gini Impurity**: For each split, the algorithm calculates the Gini impurity of the resulting child nodes. The Gini impurity measures how \"impure\" or mixed the resulting groups are after the split.\n",
        "  \n",
        "3. **Averaging Impurity Reduction**: For each feature, the importance is calculated by averaging how much the Gini impurity decreases each time the feature is used for splitting across all the trees in the forest.\n",
        "\n",
        "4. **Final Feature Importance**: Features that reduce the Gini impurity more often and to a greater degree are assigned higher importance.\n"
      ]
    },
    {
      "cell_type": "code",
      "execution_count": 9,
      "metadata": {
        "colab": {
          "base_uri": "https://localhost:8080/",
          "height": 0
        },
        "id": "tSRm36OyP6F9",
        "outputId": "3636b8b7-6c63-44ad-fc9b-2e4b40a34af5"
      },
      "outputs": [
        {
          "output_type": "execute_result",
          "data": {
            "text/plain": [
              "<pandas.io.formats.style.Styler at 0x7a91c3f57550>"
            ],
            "text/html": [
              "<style type=\"text/css\">\n",
              "#T_b831b_row0_col0, #T_b831b_row3_col2, #T_b831b_row4_col0, #T_b831b_row4_col1, #T_b831b_row4_col2, #T_b831b_row5_col2, #T_b831b_row6_col0, #T_b831b_row6_col1, #T_b831b_row6_col2, #T_b831b_row7_col0, #T_b831b_row8_col2 {\n",
              "  background-color: #fff5f0;\n",
              "  color: #000000;\n",
              "}\n",
              "#T_b831b_row0_col1, #T_b831b_row0_col2, #T_b831b_row2_col0 {\n",
              "  background-color: #fb6b4b;\n",
              "  color: #f1f1f1;\n",
              "}\n",
              "#T_b831b_row1_col0 {\n",
              "  background-color: #fca285;\n",
              "  color: #000000;\n",
              "}\n",
              "#T_b831b_row1_col1 {\n",
              "  background-color: #fff2eb;\n",
              "  color: #000000;\n",
              "}\n",
              "#T_b831b_row1_col2, #T_b831b_row2_col2, #T_b831b_row3_col0, #T_b831b_row8_col1 {\n",
              "  background-color: #fff4ee;\n",
              "  color: #000000;\n",
              "}\n",
              "#T_b831b_row2_col1 {\n",
              "  background-color: #fff0e8;\n",
              "  color: #000000;\n",
              "}\n",
              "#T_b831b_row3_col1 {\n",
              "  background-color: #fff3ed;\n",
              "  color: #000000;\n",
              "}\n",
              "#T_b831b_row5_col0, #T_b831b_row5_col1, #T_b831b_row9_col2 {\n",
              "  background-color: #fff4ef;\n",
              "  color: #000000;\n",
              "}\n",
              "#T_b831b_row7_col1 {\n",
              "  background-color: #fb7656;\n",
              "  color: #f1f1f1;\n",
              "}\n",
              "#T_b831b_row7_col2 {\n",
              "  background-color: #fee7dc;\n",
              "  color: #000000;\n",
              "}\n",
              "#T_b831b_row8_col0 {\n",
              "  background-color: #fca689;\n",
              "  color: #000000;\n",
              "}\n",
              "#T_b831b_row9_col0 {\n",
              "  background-color: #fc8a6a;\n",
              "  color: #f1f1f1;\n",
              "}\n",
              "#T_b831b_row9_col1 {\n",
              "  background-color: #fff2ec;\n",
              "  color: #000000;\n",
              "}\n",
              "</style>\n",
              "<table id=\"T_b831b\" class=\"dataframe\">\n",
              "  <thead>\n",
              "    <tr>\n",
              "      <th class=\"blank level0\" >&nbsp;</th>\n",
              "      <th id=\"T_b831b_level0_col0\" class=\"col_heading level0 col0\" >F test</th>\n",
              "      <th id=\"T_b831b_level0_col1\" class=\"col_heading level0 col1\" >Mutual Information</th>\n",
              "      <th id=\"T_b831b_level0_col2\" class=\"col_heading level0 col2\" >Random Forest</th>\n",
              "    </tr>\n",
              "  </thead>\n",
              "  <tbody>\n",
              "    <tr>\n",
              "      <th id=\"T_b831b_level0_row0\" class=\"row_heading level0 row0\" >x1</th>\n",
              "      <td id=\"T_b831b_row0_col0\" class=\"data row0 col0\" >0.00</td>\n",
              "      <td id=\"T_b831b_row0_col1\" class=\"data row0 col1\" >1.00</td>\n",
              "      <td id=\"T_b831b_row0_col2\" class=\"data row0 col2\" >1.00</td>\n",
              "    </tr>\n",
              "    <tr>\n",
              "      <th id=\"T_b831b_level0_row1\" class=\"row_heading level0 row1\" >x2</th>\n",
              "      <td id=\"T_b831b_row1_col0\" class=\"data row1 col0\" >0.66</td>\n",
              "      <td id=\"T_b831b_row1_col1\" class=\"data row1 col1\" >0.04</td>\n",
              "      <td id=\"T_b831b_row1_col2\" class=\"data row1 col2\" >0.02</td>\n",
              "    </tr>\n",
              "    <tr>\n",
              "      <th id=\"T_b831b_level0_row2\" class=\"row_heading level0 row2\" >x3</th>\n",
              "      <td id=\"T_b831b_row2_col0\" class=\"data row2 col0\" >1.00</td>\n",
              "      <td id=\"T_b831b_row2_col1\" class=\"data row2 col1\" >0.07</td>\n",
              "      <td id=\"T_b831b_row2_col2\" class=\"data row2 col2\" >0.02</td>\n",
              "    </tr>\n",
              "    <tr>\n",
              "      <th id=\"T_b831b_level0_row3\" class=\"row_heading level0 row3\" >x4_irrelevant</th>\n",
              "      <td id=\"T_b831b_row3_col0\" class=\"data row3 col0\" >0.02</td>\n",
              "      <td id=\"T_b831b_row3_col1\" class=\"data row3 col1\" >0.03</td>\n",
              "      <td id=\"T_b831b_row3_col2\" class=\"data row3 col2\" >0.00</td>\n",
              "    </tr>\n",
              "    <tr>\n",
              "      <th id=\"T_b831b_level0_row4\" class=\"row_heading level0 row4\" >x5_irrelevant</th>\n",
              "      <td id=\"T_b831b_row4_col0\" class=\"data row4 col0\" >0.01</td>\n",
              "      <td id=\"T_b831b_row4_col1\" class=\"data row4 col1\" >0.00</td>\n",
              "      <td id=\"T_b831b_row4_col2\" class=\"data row4 col2\" >0.00</td>\n",
              "    </tr>\n",
              "    <tr>\n",
              "      <th id=\"T_b831b_level0_row5\" class=\"row_heading level0 row5\" >x6_irrelevant</th>\n",
              "      <td id=\"T_b831b_row5_col0\" class=\"data row5 col0\" >0.01</td>\n",
              "      <td id=\"T_b831b_row5_col1\" class=\"data row5 col1\" >0.01</td>\n",
              "      <td id=\"T_b831b_row5_col2\" class=\"data row5 col2\" >0.00</td>\n",
              "    </tr>\n",
              "    <tr>\n",
              "      <th id=\"T_b831b_level0_row6\" class=\"row_heading level0 row6\" >x7_irrelevant</th>\n",
              "      <td id=\"T_b831b_row6_col0\" class=\"data row6 col0\" >0.00</td>\n",
              "      <td id=\"T_b831b_row6_col1\" class=\"data row6 col1\" >0.00</td>\n",
              "      <td id=\"T_b831b_row6_col2\" class=\"data row6 col2\" >0.00</td>\n",
              "    </tr>\n",
              "    <tr>\n",
              "      <th id=\"T_b831b_level0_row7\" class=\"row_heading level0 row7\" >x8_corr_x1</th>\n",
              "      <td id=\"T_b831b_row7_col0\" class=\"data row7 col0\" >0.00</td>\n",
              "      <td id=\"T_b831b_row7_col1\" class=\"data row7 col1\" >0.93</td>\n",
              "      <td id=\"T_b831b_row7_col2\" class=\"data row7 col2\" >0.17</td>\n",
              "    </tr>\n",
              "    <tr>\n",
              "      <th id=\"T_b831b_level0_row8\" class=\"row_heading level0 row8\" >x9_corr_x2</th>\n",
              "      <td id=\"T_b831b_row8_col0\" class=\"data row8 col0\" >0.63</td>\n",
              "      <td id=\"T_b831b_row8_col1\" class=\"data row8 col1\" >0.02</td>\n",
              "      <td id=\"T_b831b_row8_col2\" class=\"data row8 col2\" >0.00</td>\n",
              "    </tr>\n",
              "    <tr>\n",
              "      <th id=\"T_b831b_level0_row9\" class=\"row_heading level0 row9\" >x10_corr_x3</th>\n",
              "      <td id=\"T_b831b_row9_col0\" class=\"data row9 col0\" >0.81</td>\n",
              "      <td id=\"T_b831b_row9_col1\" class=\"data row9 col1\" >0.03</td>\n",
              "      <td id=\"T_b831b_row9_col2\" class=\"data row9 col2\" >0.01</td>\n",
              "    </tr>\n",
              "  </tbody>\n",
              "</table>\n"
            ]
          },
          "metadata": {},
          "execution_count": 9
        }
      ],
      "source": [
        "from sklearn.ensemble import RandomForestRegressor\n",
        "\n",
        "random_forest = RandomForestRegressor(n_estimators=100, random_state=42)\n",
        "random_forest.fit(X_train, y_train)\n",
        "\n",
        "feature_scores['Random Forest'] = scaler.fit_transform(random_forest.feature_importances_.reshape(-1, 1))\n",
        "feature_scores.style.format(precision=2).background_gradient(cmap='Reds', high=1.01)"
      ]
    },
    {
      "cell_type": "markdown",
      "source": [
        "**Note**: If features are highly correlated, decision trees may often choose one feature over the other during splits because they essentially provide redundant information >>  can lead to biased importance rankings in the presence of collinearity"
      ],
      "metadata": {
        "id": "9aHy-6f5jL-A"
      }
    },
    {
      "cell_type": "markdown",
      "metadata": {
        "id": "PtZQdvwZP6GA"
      },
      "source": [
        "## Permutation Feature Importance (Mean Decrease in Accuracy - MDA)\n",
        "\n",
        "Permutation Feature Importance, is a model-agnostic method for estimating the importance of each feature in a trained machine learning model. Unlike Mean Decrease in Impurity (MDI), which is based on decision trees, MDA evaluates feature importance by measuring the change in model performance when a feature's values are randomly shuffled (permuted).\n",
        "\n",
        "#### How It Works:\n",
        "1. **Train the Model**: A Random Forest (or any other model) is trained on the dataset.\n",
        "2. **Calculate Baseline Accuracy**: The model's accuracy (or another performance metric, f1, R^2 etc.) is measured on a validation set.\n",
        "3. **Feature Permutation**: The values of a single feature are randomly shuffled, breaking any relationship it had with the target variable.\n",
        "4. **Recalculate Accuracy**: The model makes predictions using the modified dataset, and the new accuracy is recorded.\n",
        "5. **Compute the Importance**: The difference between the baseline accuracy and the new accuracy after shuffling the feature represents its importance. A larger drop in accuracy indicates a more important feature.\n"
      ]
    },
    {
      "cell_type": "markdown",
      "metadata": {
        "id": "gKygEeYSP6GA"
      },
      "source": [
        "### Task. Implement permutation importance\n",
        "\n",
        "1. Using fitted model calculate its base_score - score, obtained using all features\n",
        "2. Take one feature column and replace its values by the permuted values, calculate\n",
        "   the score and subtract it from base_score, i.e. calculate `score_decrease`\n",
        "3. Repeat step 2 several times and calculte mean `score_decrease`\n",
        "4. Do steps 2 and 3 for each feature"
      ]
    },
    {
      "cell_type": "code",
      "execution_count": 10,
      "metadata": {
        "id": "uSYZkZGiP6GA"
      },
      "outputs": [],
      "source": [
        "def _permutation_importance(model, X, y,\n",
        "                            feature, n_iters=5, random_state=None):\n",
        "    \"\"\"\n",
        "    Calculate permutation importances for the given feature\n",
        "\n",
        "    Parameters\n",
        "    ==========\n",
        "        model: sklearn-style fitted model with and score() methods\n",
        "        X: ndarray - training inputs\n",
        "        y: ndarray - training targets\n",
        "        feature: int - index of feature for which importance should be\n",
        "                       calculated\n",
        "        n_iters: int - number of permutation rounds\n",
        "\n",
        "    Returns\n",
        "    =======\n",
        "        ndarray: feature importances\n",
        "    \"\"\"\n",
        "    if random_state is None:\n",
        "        random_state = np.random.RandomState(42)\n",
        "    if isinstance(random_state, int):\n",
        "        random_state = np.random.RandomState(random_state)\n",
        "\n",
        "    base_score = model.score(X, y)\n",
        "\n",
        "    importance = None\n",
        "\n",
        "    scores = []\n",
        "    for i in range(n_iters):\n",
        "        X_copy = X.copy()\n",
        "    # start your code here\n",
        "        # permutation =  # shuffle the rows of the original matrix and then replace each feature \"column\" by the new shuffled one\n",
        "        permutation = random_state.permutation(X.shape[0])\n",
        "        X_copy[:, feature] = X[permutation, feature]\n",
        "        # calculate the drop in score\n",
        "        scores.append(base_score - model.score(X_copy, y))\n",
        "\n",
        "    # calculate the mean over the iterations\n",
        "    importance = np.mean(scores)\n",
        "\n",
        "    #end your code here\n",
        "    return importance\n",
        "\n",
        "def get_permutation_importance(model, X, y, n_iters=20, random_state=None):\n",
        "    if random_state is None:\n",
        "        random_state = np.random.RandomState(42)\n",
        "    elif isinstance(random_state, int):\n",
        "        random_state = np.random.RandomState(random_state)\n",
        "\n",
        "    permutation_importances = np.zeros(X.shape[1])\n",
        "    for i in range(X.shape[1]):\n",
        "        permutation_importances[i] = _permutation_importance(model, X, y, i)\n",
        "    return permutation_importances"
      ]
    },
    {
      "cell_type": "code",
      "execution_count": 11,
      "metadata": {
        "colab": {
          "base_uri": "https://localhost:8080/",
          "height": 363
        },
        "id": "TnKV1CIYP6GA",
        "outputId": "35248c83-cbaa-4544-ef6e-231e3b444b37"
      },
      "outputs": [
        {
          "output_type": "execute_result",
          "data": {
            "text/plain": [
              "<pandas.io.formats.style.Styler at 0x7a92194b22d0>"
            ],
            "text/html": [
              "<style type=\"text/css\">\n",
              "#T_62144_row0_col0, #T_62144_row3_col2, #T_62144_row3_col3, #T_62144_row4_col0, #T_62144_row4_col1, #T_62144_row4_col2, #T_62144_row4_col3, #T_62144_row5_col2, #T_62144_row5_col3, #T_62144_row6_col0, #T_62144_row6_col1, #T_62144_row6_col2, #T_62144_row6_col3, #T_62144_row7_col0, #T_62144_row8_col2, #T_62144_row8_col3, #T_62144_row9_col3 {\n",
              "  background-color: #fff5f0;\n",
              "  color: #000000;\n",
              "}\n",
              "#T_62144_row0_col1, #T_62144_row0_col2, #T_62144_row0_col3, #T_62144_row2_col0 {\n",
              "  background-color: #fb6b4b;\n",
              "  color: #f1f1f1;\n",
              "}\n",
              "#T_62144_row1_col0 {\n",
              "  background-color: #fca285;\n",
              "  color: #000000;\n",
              "}\n",
              "#T_62144_row1_col1 {\n",
              "  background-color: #fff2eb;\n",
              "  color: #000000;\n",
              "}\n",
              "#T_62144_row1_col2, #T_62144_row1_col3, #T_62144_row2_col2, #T_62144_row2_col3, #T_62144_row3_col0, #T_62144_row8_col1 {\n",
              "  background-color: #fff4ee;\n",
              "  color: #000000;\n",
              "}\n",
              "#T_62144_row2_col1 {\n",
              "  background-color: #fff0e8;\n",
              "  color: #000000;\n",
              "}\n",
              "#T_62144_row3_col1 {\n",
              "  background-color: #fff3ed;\n",
              "  color: #000000;\n",
              "}\n",
              "#T_62144_row5_col0, #T_62144_row5_col1, #T_62144_row9_col2 {\n",
              "  background-color: #fff4ef;\n",
              "  color: #000000;\n",
              "}\n",
              "#T_62144_row7_col1 {\n",
              "  background-color: #fb7656;\n",
              "  color: #f1f1f1;\n",
              "}\n",
              "#T_62144_row7_col2 {\n",
              "  background-color: #fee7dc;\n",
              "  color: #000000;\n",
              "}\n",
              "#T_62144_row7_col3, #T_62144_row9_col1 {\n",
              "  background-color: #fff2ec;\n",
              "  color: #000000;\n",
              "}\n",
              "#T_62144_row8_col0 {\n",
              "  background-color: #fca689;\n",
              "  color: #000000;\n",
              "}\n",
              "#T_62144_row9_col0 {\n",
              "  background-color: #fc8a6a;\n",
              "  color: #f1f1f1;\n",
              "}\n",
              "</style>\n",
              "<table id=\"T_62144\" class=\"dataframe\">\n",
              "  <thead>\n",
              "    <tr>\n",
              "      <th class=\"blank level0\" >&nbsp;</th>\n",
              "      <th id=\"T_62144_level0_col0\" class=\"col_heading level0 col0\" >F test</th>\n",
              "      <th id=\"T_62144_level0_col1\" class=\"col_heading level0 col1\" >Mutual Information</th>\n",
              "      <th id=\"T_62144_level0_col2\" class=\"col_heading level0 col2\" >Random Forest</th>\n",
              "      <th id=\"T_62144_level0_col3\" class=\"col_heading level0 col3\" >Permutation Importance</th>\n",
              "    </tr>\n",
              "  </thead>\n",
              "  <tbody>\n",
              "    <tr>\n",
              "      <th id=\"T_62144_level0_row0\" class=\"row_heading level0 row0\" >x1</th>\n",
              "      <td id=\"T_62144_row0_col0\" class=\"data row0 col0\" >0.00</td>\n",
              "      <td id=\"T_62144_row0_col1\" class=\"data row0 col1\" >1.00</td>\n",
              "      <td id=\"T_62144_row0_col2\" class=\"data row0 col2\" >1.00</td>\n",
              "      <td id=\"T_62144_row0_col3\" class=\"data row0 col3\" >1.00</td>\n",
              "    </tr>\n",
              "    <tr>\n",
              "      <th id=\"T_62144_level0_row1\" class=\"row_heading level0 row1\" >x2</th>\n",
              "      <td id=\"T_62144_row1_col0\" class=\"data row1 col0\" >0.66</td>\n",
              "      <td id=\"T_62144_row1_col1\" class=\"data row1 col1\" >0.04</td>\n",
              "      <td id=\"T_62144_row1_col2\" class=\"data row1 col2\" >0.02</td>\n",
              "      <td id=\"T_62144_row1_col3\" class=\"data row1 col3\" >0.02</td>\n",
              "    </tr>\n",
              "    <tr>\n",
              "      <th id=\"T_62144_level0_row2\" class=\"row_heading level0 row2\" >x3</th>\n",
              "      <td id=\"T_62144_row2_col0\" class=\"data row2 col0\" >1.00</td>\n",
              "      <td id=\"T_62144_row2_col1\" class=\"data row2 col1\" >0.07</td>\n",
              "      <td id=\"T_62144_row2_col2\" class=\"data row2 col2\" >0.02</td>\n",
              "      <td id=\"T_62144_row2_col3\" class=\"data row2 col3\" >0.02</td>\n",
              "    </tr>\n",
              "    <tr>\n",
              "      <th id=\"T_62144_level0_row3\" class=\"row_heading level0 row3\" >x4_irrelevant</th>\n",
              "      <td id=\"T_62144_row3_col0\" class=\"data row3 col0\" >0.02</td>\n",
              "      <td id=\"T_62144_row3_col1\" class=\"data row3 col1\" >0.03</td>\n",
              "      <td id=\"T_62144_row3_col2\" class=\"data row3 col2\" >0.00</td>\n",
              "      <td id=\"T_62144_row3_col3\" class=\"data row3 col3\" >0.00</td>\n",
              "    </tr>\n",
              "    <tr>\n",
              "      <th id=\"T_62144_level0_row4\" class=\"row_heading level0 row4\" >x5_irrelevant</th>\n",
              "      <td id=\"T_62144_row4_col0\" class=\"data row4 col0\" >0.01</td>\n",
              "      <td id=\"T_62144_row4_col1\" class=\"data row4 col1\" >0.00</td>\n",
              "      <td id=\"T_62144_row4_col2\" class=\"data row4 col2\" >0.00</td>\n",
              "      <td id=\"T_62144_row4_col3\" class=\"data row4 col3\" >0.00</td>\n",
              "    </tr>\n",
              "    <tr>\n",
              "      <th id=\"T_62144_level0_row5\" class=\"row_heading level0 row5\" >x6_irrelevant</th>\n",
              "      <td id=\"T_62144_row5_col0\" class=\"data row5 col0\" >0.01</td>\n",
              "      <td id=\"T_62144_row5_col1\" class=\"data row5 col1\" >0.01</td>\n",
              "      <td id=\"T_62144_row5_col2\" class=\"data row5 col2\" >0.00</td>\n",
              "      <td id=\"T_62144_row5_col3\" class=\"data row5 col3\" >0.00</td>\n",
              "    </tr>\n",
              "    <tr>\n",
              "      <th id=\"T_62144_level0_row6\" class=\"row_heading level0 row6\" >x7_irrelevant</th>\n",
              "      <td id=\"T_62144_row6_col0\" class=\"data row6 col0\" >0.00</td>\n",
              "      <td id=\"T_62144_row6_col1\" class=\"data row6 col1\" >0.00</td>\n",
              "      <td id=\"T_62144_row6_col2\" class=\"data row6 col2\" >0.00</td>\n",
              "      <td id=\"T_62144_row6_col3\" class=\"data row6 col3\" >0.00</td>\n",
              "    </tr>\n",
              "    <tr>\n",
              "      <th id=\"T_62144_level0_row7\" class=\"row_heading level0 row7\" >x8_corr_x1</th>\n",
              "      <td id=\"T_62144_row7_col0\" class=\"data row7 col0\" >0.00</td>\n",
              "      <td id=\"T_62144_row7_col1\" class=\"data row7 col1\" >0.93</td>\n",
              "      <td id=\"T_62144_row7_col2\" class=\"data row7 col2\" >0.17</td>\n",
              "      <td id=\"T_62144_row7_col3\" class=\"data row7 col3\" >0.03</td>\n",
              "    </tr>\n",
              "    <tr>\n",
              "      <th id=\"T_62144_level0_row8\" class=\"row_heading level0 row8\" >x9_corr_x2</th>\n",
              "      <td id=\"T_62144_row8_col0\" class=\"data row8 col0\" >0.63</td>\n",
              "      <td id=\"T_62144_row8_col1\" class=\"data row8 col1\" >0.02</td>\n",
              "      <td id=\"T_62144_row8_col2\" class=\"data row8 col2\" >0.00</td>\n",
              "      <td id=\"T_62144_row8_col3\" class=\"data row8 col3\" >0.00</td>\n",
              "    </tr>\n",
              "    <tr>\n",
              "      <th id=\"T_62144_level0_row9\" class=\"row_heading level0 row9\" >x10_corr_x3</th>\n",
              "      <td id=\"T_62144_row9_col0\" class=\"data row9 col0\" >0.81</td>\n",
              "      <td id=\"T_62144_row9_col1\" class=\"data row9 col1\" >0.03</td>\n",
              "      <td id=\"T_62144_row9_col2\" class=\"data row9 col2\" >0.01</td>\n",
              "      <td id=\"T_62144_row9_col3\" class=\"data row9 col3\" >0.01</td>\n",
              "    </tr>\n",
              "  </tbody>\n",
              "</table>\n"
            ]
          },
          "metadata": {},
          "execution_count": 11
        }
      ],
      "source": [
        "random_forest = RandomForestRegressor(n_estimators=100).fit(X_train, y_train)\n",
        "permutation_importances = get_permutation_importance(random_forest, X_val, y_val)\n",
        "\n",
        "feature_scores['Permutation Importance'] = scaler.fit_transform(permutation_importances.reshape(-1, 1))\n",
        "feature_scores.style.format(precision=2).background_gradient(cmap='Reds', high=1.01)"
      ]
    },
    {
      "cell_type": "markdown",
      "metadata": {
        "id": "JjkTrQZpP6GB"
      },
      "source": [
        "A bar plot can be used to visualize features importance"
      ]
    },
    {
      "cell_type": "code",
      "source": [
        "def plot_feature_scores(feature_names, scores):\n",
        "    sorting_idx = np.argsort(scores)\n",
        "    sorted_names = np.array(feature_names)[sorting_idx]\n",
        "\n",
        "    plt.figure(figsize=(10, 0.3 * len(scores)))\n",
        "    plt.barh(range(len(scores)), scores[sorting_idx], height=0.5)\n",
        "    plt.yticks(range(len(scores)), sorted_names)\n",
        "\n",
        "    for i, v in enumerate(scores[sorting_idx]):\n",
        "        if np.isfinite(v):\n",
        "            v_str = '{:.3f}'.format(v) if v != int(v) else '{}'.format(int(v))\n",
        "            plt.text(v + 0.005 * scores.max(), i - 0.22, v_str)\n",
        "\n",
        "    plt.grid(True)\n",
        "    plt.ylim([-0.5, len(scores) - 0.5])\n",
        "    plt.show()\n"
      ],
      "metadata": {
        "id": "FcGGOB4HvLVL"
      },
      "execution_count": 14,
      "outputs": []
    },
    {
      "cell_type": "code",
      "execution_count": 15,
      "metadata": {
        "colab": {
          "base_uri": "https://localhost:8080/",
          "height": 291
        },
        "id": "fTtvJdAQP6GB",
        "outputId": "256f61aa-5797-423a-8fad-bd66aabf31ff",
        "scrolled": true
      },
      "outputs": [
        {
          "output_type": "display_data",
          "data": {
            "text/plain": [
              "<Figure size 1000x300 with 1 Axes>"
            ],
            "image/png": "[encoded data removed]"
          },
          "metadata": {}
        }
      ],
      "source": [
        "plot_feature_scores(feature_names, permutation_importances)"
      ]
    },
    {
      "cell_type": "markdown",
      "source": [
        "**Conclusion**:\n",
        "\n",
        "Pros:\n",
        "- Works with any model.\n",
        "- Captures interactions between features since it evaluates importance based on the trained model’s behavior.\n",
        "\n",
        "Cons\n",
        "- Computationally expensive since it requires multiple evaluations.\n",
        "- Can be biased if features are highly correlated, as shuffling one feature may not significantly impact the model if another correlated feature still provides similar information."
      ],
      "metadata": {
        "id": "XrsHQgGPckE2"
      }
    },
    {
      "cell_type": "markdown",
      "source": [
        "## SHAP (SHapley Additive exPlanations)\n",
        "\n",
        "SHAP values are based on Shapley values from game theory, which help explain how much each feature contributes to a model's prediction.\n",
        "\n",
        "The SHAP value for a feature $ x_i $ is computed as:\n",
        "\n",
        "$\n",
        "\\phi_i = \\sum_{S \\subseteq F \\setminus \\{i\\}} \\frac{|S|! (|F| - |S| - 1)!}{|F|!} \\left[ f(S \\cup \\{i\\}) - f(S) \\right]\n",
        "$\n",
        "\n",
        "Where:\n",
        "\n",
        "- $ S $ is a subset of all features excluding feature $ i $ and $ |S| $ is its size.\n",
        "- $ f(S) $ is the model’s prediction using only features in $ S $.\n",
        "- $ f(S \\cup \\{i\\}) $ is the prediction including feature $ i $.\n",
        "- $ |F| $ is the total number of features.\n",
        "\n",
        "This equation computes the average contribution of feature $ i $ across all possible feature subsets."
      ],
      "metadata": {
        "id": "eNEjauZc30J2"
      }
    },
    {
      "cell_type": "markdown",
      "source": [
        "### SHAP with random forest"
      ],
      "metadata": {
        "id": "OlqznH6uOOXn"
      }
    },
    {
      "cell_type": "code",
      "source": [
        "import shap\n",
        "\n",
        "X_train_df = pd.DataFrame(X_train, columns=feature_names)\n",
        "X_val_df = pd.DataFrame(X_val, columns=feature_names)\n",
        "\n",
        "model_rf = RandomForestRegressor(n_estimators=100).fit(X_train_df, y_train)\n",
        "\n",
        "explainer_rf = shap.Explainer(model_rf, X_train_df )\n",
        "\n",
        "shap_values = explainer_rf(X_val_df)\n",
        "\n",
        "feature_importance_rf = np.abs(shap_values.values).mean(axis=0)\n",
        "\n",
        "feature_ranking_rf = pd.Series(feature_importance_rf, index=feature_names).sort_values(ascending=False)\n",
        "\n",
        "top_n = 5  # Adjust as needed\n",
        "selected_features_rf = feature_ranking_rf.index[:top_n]\n",
        "\n",
        "print(\"Selected Features:\", selected_features_rf.tolist())\n",
        "\n",
        "plt.figure(figsize=(10, 6))\n",
        "shap.summary_plot(shap_values, X_val_df)"
      ],
      "metadata": {
        "colab": {
          "base_uri": "https://localhost:8080/",
          "height": 576
        },
        "id": "ci_KFhag6mRX",
        "outputId": "9c6953fb-35ed-4562-8c45-c6a4bbb52509"
      },
      "execution_count": 15,
      "outputs": [
        {
          "output_type": "stream",
          "name": "stdout",
          "text": [
            "Selected Features: ['x1', 'x8_corr_x1', 'x3', 'x2', 'x10_corr_x3']\n"
          ]
        },
        {
          "output_type": "display_data",
          "data": {
            "text/plain": [
              "<Figure size 800x550 with 2 Axes>"
            ],
            "image/png": "[encoded data removed]"
          },
          "metadata": {}
        }
      ]
    },
    {
      "cell_type": "markdown",
      "source": [
        "### SHAP with xgboost"
      ],
      "metadata": {
        "id": "KbFXgkrOOeZ2"
      }
    },
    {
      "cell_type": "code",
      "source": [
        "\n",
        "import xgboost\n",
        "\n",
        "X_train_df = pd.DataFrame(X_train, columns=feature_names)\n",
        "X_val_df = pd.DataFrame(X_val, columns=feature_names)\n",
        "\n",
        "\n",
        "model_xgb = xgboost.XGBRegressor().fit(X_train_df, y_train)\n",
        "\n",
        "explainer_xgb = shap.Explainer(model_xgb, X_train_df)\n",
        "shap_values = explainer_xgb(X_val_df)\n",
        "\n",
        "feature_importance = np.abs(shap_values.values).mean(axis=0)\n",
        "\n",
        "feature_ranking = pd.Series(feature_importance, index=feature_names).sort_values(ascending=False)\n",
        "\n",
        "\n",
        "top_n = 5  # Adjust as needed\n",
        "selected_features = feature_ranking.index[:top_n]\n",
        "\n",
        "print(\"Selected Features:\", selected_features.tolist())\n",
        "\n",
        "plt.figure(figsize=(10, 6))\n",
        "shap.summary_plot(shap_values, X_val_df)"
      ],
      "metadata": {
        "colab": {
          "base_uri": "https://localhost:8080/",
          "height": 576
        },
        "id": "QBXGGdnfxb6z",
        "outputId": "df08e05d-cca9-43e7-ca15-fd617e248e65"
      },
      "execution_count": 16,
      "outputs": [
        {
          "output_type": "stream",
          "name": "stdout",
          "text": [
            "Selected Features: ['x1', 'x8_corr_x1', 'x2', 'x3', 'x10_corr_x3']\n"
          ]
        },
        {
          "output_type": "display_data",
          "data": {
            "text/plain": [
              "<Figure size 800x550 with 2 Axes>"
            ],
            "image/png": "[encoded data removed]"
          },
          "metadata": {}
        }
      ]
    },
    {
      "cell_type": "markdown",
      "metadata": {
        "id": "df80f9WsP6F8"
      },
      "source": [
        "**Conclusion**:\n",
        "\n",
        "Pros:\n",
        "\n",
        "- It capture the feature interactions.\n",
        "\n",
        "- It has fair distribution of importance among correlated Features\n",
        "\n",
        "\n",
        "Cons\n",
        "\n",
        "- Computationally expensive: many possible feature combinations.\n"
      ]
    },
    {
      "cell_type": "markdown",
      "metadata": {
        "id": "7b6kG16ZP6F-"
      },
      "source": [
        "# 4. Wrapper methods (iterative selection approaches)\n",
        "\n",
        "Wrapper methods are feature selection techniques that evaluate subsets of features by training a model on them and assessing performance. The idea is to iteratively add or remove features and observe how a chosen evaluation metric changes.\n",
        "\n",
        "Wrapper methods use the learning algorithm itself to assess feature importance.\n",
        "\n",
        "Two types:\n",
        "\n",
        "Forward Selection : Starts with an empty set of features and adds features one at a time, selecting the feature that improves the model the most.\n",
        "\n",
        "Backward Elimination : Starts with all features and removes the least useful features one by one.\n",
        "\n",
        "The decision on whether to add or remove a feature is based on different evaluation criteria:\n",
        "- AIC\n",
        "- BIC\n",
        "- validation error\n",
        "- Mallows $C_p$\n",
        "- model.score()`"
      ]
    },
    {
      "cell_type": "markdown",
      "metadata": {
        "id": "X5y4yzvDP6F-"
      },
      "source": [
        "### Task. Implement forward method\n",
        "\n",
        "Implement the following algorithm:\n",
        "\n",
        "1. Start with empty list of features.\n",
        "2. Add feature that increases model quality the most (use `model.score()` function)\n",
        "3. Iterate step 2 until required number of features is selected\n"
      ]
    },
    {
      "cell_type": "code",
      "execution_count": 17,
      "metadata": {
        "id": "C8Pgib4DP6F_"
      },
      "outputs": [],
      "source": [
        "def forward_steps(X, y, n_features, model, X_test, y_test):\n",
        "    \"\"\"\n",
        "    Parameters\n",
        "    ==========\n",
        "        X: ndarray - training inputs\n",
        "        y: ndarray - training targets\n",
        "        n_features: int - number of features to select\n",
        "        model: sklearn model\n",
        "        X_test: ndarray - test inputs\n",
        "        y_test: ndarray - test targets\n",
        "\n",
        "    Returns\n",
        "    =======\n",
        "        list - list of features\n",
        "    \"\"\"\n",
        "\n",
        "    feat_list = []\n",
        "\n",
        "    # Your code here\n",
        "\n",
        "    # fill variable feat_list with\n",
        "    # the selected features and return it\n",
        "\n",
        "    for i in range(n_features):\n",
        "        max_score = -np.inf\n",
        "        active_idx = -1\n",
        "        for j in range(X.shape[1]):\n",
        "            if j not in feat_list:\n",
        "                feat_list.append(j)\n",
        "\n",
        "                model.fit(X[:, feat_list], y)\n",
        "                current_score = model.score(X_test[:, feat_list], y_test)\n",
        "\n",
        "                feat_list.pop()\n",
        "\n",
        "                if current_score > max_score:\n",
        "                    max_score = current_score\n",
        "                    active_idx = j\n",
        "        feat_list.append(active_idx)\n",
        "\n",
        "        print('{:.2f}: {}'.format(max_score, feat_list))\n",
        "    return feat_list"
      ]
    },
    {
      "cell_type": "code",
      "execution_count": 18,
      "metadata": {
        "colab": {
          "base_uri": "https://localhost:8080/"
        },
        "id": "MUJCiJadP6F_",
        "outputId": "22cb4215-5d03-4908-d243-d23124eae302"
      },
      "outputs": [
        {
          "output_type": "stream",
          "name": "stdout",
          "text": [
            "0.91: [0]\n",
            "0.96: [0, 2]\n",
            "0.99: [0, 2, 1]\n",
            "0.99: [0, 2, 1, 9]\n",
            "0.99: [0, 2, 1, 9, 8]\n",
            "['x1' 'x3' 'x2' 'x10_corr_x3' 'x9_corr_x2']\n"
          ]
        }
      ],
      "source": [
        "features_idx = forward_feat = forward_steps(X_train, y_train, 5,\n",
        "                                            random_forest,\n",
        "                                            X_test, y_test)\n",
        "print(feature_names[features_idx])"
      ]
    },
    {
      "cell_type": "markdown",
      "metadata": {
        "id": "yJUgbx0uP6GC"
      },
      "source": [
        "### Task 2. Use RFECV (Recursive Feature Elimination with Cross-Validation) to get optimal number of features"
      ]
    },
    {
      "cell_type": "markdown",
      "metadata": {
        "id": "cUm9Lm6zP6GC"
      },
      "source": [
        "To choose number of features automatically, RFECV module may be used."
      ]
    },
    {
      "cell_type": "code",
      "execution_count": 19,
      "metadata": {
        "colab": {
          "base_uri": "https://localhost:8080/",
          "height": 531
        },
        "id": "3PMvUCDmP6GC",
        "outputId": "db045496-a114-4f38-c1a1-687d0558c9bd"
      },
      "outputs": [
        {
          "output_type": "stream",
          "name": "stdout",
          "text": [
            "Fitting estimator with 10 features.\n",
            "Fitting estimator with 9 features.\n",
            "Fitting estimator with 8 features.\n",
            "Fitting estimator with 7 features.\n",
            "Fitting estimator with 6 features.\n",
            "Fitting estimator with 5 features.\n",
            "Optimal number of features: 4\n",
            "Selected features: [ True  True  True False False False False  True False False]\n",
            "Ranking of features: [1 1 1 5 4 7 6 1 3 2]\n"
          ]
        },
        {
          "output_type": "execute_result",
          "data": {
            "text/plain": [
              "<pandas.io.formats.style.Styler at 0x7ce5d6a2fcd0>"
            ],
            "text/html": [
              "<style type=\"text/css\">\n",
              "#T_ca541_row0_col0, #T_ca541_row3_col4, #T_ca541_row3_col5, #T_ca541_row4_col0, #T_ca541_row4_col1, #T_ca541_row4_col2, #T_ca541_row4_col3, #T_ca541_row4_col4, #T_ca541_row4_col5, #T_ca541_row5_col4, #T_ca541_row5_col5, #T_ca541_row5_col6, #T_ca541_row6_col0, #T_ca541_row6_col1, #T_ca541_row6_col4, #T_ca541_row6_col5, #T_ca541_row7_col0, #T_ca541_row8_col4, #T_ca541_row8_col5, #T_ca541_row9_col5 {\n",
              "  background-color: #fff5f0;\n",
              "  color: #000000;\n",
              "}\n",
              "#T_ca541_row0_col1, #T_ca541_row0_col4, #T_ca541_row0_col5, #T_ca541_row0_col6, #T_ca541_row1_col6, #T_ca541_row2_col0, #T_ca541_row2_col6, #T_ca541_row7_col2, #T_ca541_row7_col3, #T_ca541_row7_col6 {\n",
              "  background-color: #fb6b4b;\n",
              "  color: #f1f1f1;\n",
              "}\n",
              "#T_ca541_row0_col2 {\n",
              "  background-color: #fb7252;\n",
              "  color: #f1f1f1;\n",
              "}\n",
              "#T_ca541_row0_col3 {\n",
              "  background-color: #fb7050;\n",
              "  color: #f1f1f1;\n",
              "}\n",
              "#T_ca541_row1_col0, #T_ca541_row2_col2 {\n",
              "  background-color: #fca285;\n",
              "  color: #000000;\n",
              "}\n",
              "#T_ca541_row1_col1 {\n",
              "  background-color: #fff2eb;\n",
              "  color: #000000;\n",
              "}\n",
              "#T_ca541_row1_col2 {\n",
              "  background-color: #fcb89e;\n",
              "  color: #000000;\n",
              "}\n",
              "#T_ca541_row1_col3 {\n",
              "  background-color: #fdcab5;\n",
              "  color: #000000;\n",
              "}\n",
              "#T_ca541_row1_col4, #T_ca541_row1_col5, #T_ca541_row2_col4, #T_ca541_row2_col5, #T_ca541_row3_col0, #T_ca541_row8_col1 {\n",
              "  background-color: #fff4ee;\n",
              "  color: #000000;\n",
              "}\n",
              "#T_ca541_row2_col1 {\n",
              "  background-color: #fff0e8;\n",
              "  color: #000000;\n",
              "}\n",
              "#T_ca541_row2_col3 {\n",
              "  background-color: #fcbba1;\n",
              "  color: #000000;\n",
              "}\n",
              "#T_ca541_row3_col1, #T_ca541_row5_col3, #T_ca541_row6_col3 {\n",
              "  background-color: #fff3ed;\n",
              "  color: #000000;\n",
              "}\n",
              "#T_ca541_row3_col2 {\n",
              "  background-color: #feeae0;\n",
              "  color: #000000;\n",
              "}\n",
              "#T_ca541_row3_col3 {\n",
              "  background-color: #ffece4;\n",
              "  color: #000000;\n",
              "}\n",
              "#T_ca541_row3_col6 {\n",
              "  background-color: #fdd4c2;\n",
              "  color: #000000;\n",
              "}\n",
              "#T_ca541_row4_col6 {\n",
              "  background-color: #fcbca2;\n",
              "  color: #000000;\n",
              "}\n",
              "#T_ca541_row5_col0, #T_ca541_row5_col1, #T_ca541_row9_col4 {\n",
              "  background-color: #fff4ef;\n",
              "  color: #000000;\n",
              "}\n",
              "#T_ca541_row5_col2, #T_ca541_row6_col2, #T_ca541_row7_col5, #T_ca541_row9_col1 {\n",
              "  background-color: #fff2ec;\n",
              "  color: #000000;\n",
              "}\n",
              "#T_ca541_row6_col6, #T_ca541_row7_col4 {\n",
              "  background-color: #fee7dc;\n",
              "  color: #000000;\n",
              "}\n",
              "#T_ca541_row7_col1 {\n",
              "  background-color: #fb7656;\n",
              "  color: #f1f1f1;\n",
              "}\n",
              "#T_ca541_row8_col0 {\n",
              "  background-color: #fca689;\n",
              "  color: #000000;\n",
              "}\n",
              "#T_ca541_row8_col2, #T_ca541_row9_col3 {\n",
              "  background-color: #fee9df;\n",
              "  color: #000000;\n",
              "}\n",
              "#T_ca541_row8_col3 {\n",
              "  background-color: #ffece3;\n",
              "  color: #000000;\n",
              "}\n",
              "#T_ca541_row8_col6 {\n",
              "  background-color: #fca183;\n",
              "  color: #000000;\n",
              "}\n",
              "#T_ca541_row9_col0 {\n",
              "  background-color: #fc8a6a;\n",
              "  color: #f1f1f1;\n",
              "}\n",
              "#T_ca541_row9_col2 {\n",
              "  background-color: #fee6da;\n",
              "  color: #000000;\n",
              "}\n",
              "#T_ca541_row9_col6 {\n",
              "  background-color: #fc8565;\n",
              "  color: #f1f1f1;\n",
              "}\n",
              "</style>\n",
              "<table id=\"T_ca541\" class=\"dataframe\">\n",
              "  <thead>\n",
              "    <tr>\n",
              "      <th class=\"blank level0\" >&nbsp;</th>\n",
              "      <th id=\"T_ca541_level0_col0\" class=\"col_heading level0 col0\" >F test</th>\n",
              "      <th id=\"T_ca541_level0_col1\" class=\"col_heading level0 col1\" >Mutual Information</th>\n",
              "      <th id=\"T_ca541_level0_col2\" class=\"col_heading level0 col2\" >Lasso</th>\n",
              "      <th id=\"T_ca541_level0_col3\" class=\"col_heading level0 col3\" >Ridge</th>\n",
              "      <th id=\"T_ca541_level0_col4\" class=\"col_heading level0 col4\" >Random Forest</th>\n",
              "      <th id=\"T_ca541_level0_col5\" class=\"col_heading level0 col5\" >Permutation Importance</th>\n",
              "      <th id=\"T_ca541_level0_col6\" class=\"col_heading level0 col6\" >RFECV</th>\n",
              "    </tr>\n",
              "  </thead>\n",
              "  <tbody>\n",
              "    <tr>\n",
              "      <th id=\"T_ca541_level0_row0\" class=\"row_heading level0 row0\" >x1</th>\n",
              "      <td id=\"T_ca541_row0_col0\" class=\"data row0 col0\" >0.00</td>\n",
              "      <td id=\"T_ca541_row0_col1\" class=\"data row0 col1\" >1.00</td>\n",
              "      <td id=\"T_ca541_row0_col2\" class=\"data row0 col2\" >0.96</td>\n",
              "      <td id=\"T_ca541_row0_col3\" class=\"data row0 col3\" >0.97</td>\n",
              "      <td id=\"T_ca541_row0_col4\" class=\"data row0 col4\" >1.00</td>\n",
              "      <td id=\"T_ca541_row0_col5\" class=\"data row0 col5\" >1.00</td>\n",
              "      <td id=\"T_ca541_row0_col6\" class=\"data row0 col6\" >1.00</td>\n",
              "    </tr>\n",
              "    <tr>\n",
              "      <th id=\"T_ca541_level0_row1\" class=\"row_heading level0 row1\" >x2</th>\n",
              "      <td id=\"T_ca541_row1_col0\" class=\"data row1 col0\" >0.66</td>\n",
              "      <td id=\"T_ca541_row1_col1\" class=\"data row1 col1\" >0.04</td>\n",
              "      <td id=\"T_ca541_row1_col2\" class=\"data row1 col2\" >0.52</td>\n",
              "      <td id=\"T_ca541_row1_col3\" class=\"data row1 col3\" >0.41</td>\n",
              "      <td id=\"T_ca541_row1_col4\" class=\"data row1 col4\" >0.02</td>\n",
              "      <td id=\"T_ca541_row1_col5\" class=\"data row1 col5\" >0.02</td>\n",
              "      <td id=\"T_ca541_row1_col6\" class=\"data row1 col6\" >1.00</td>\n",
              "    </tr>\n",
              "    <tr>\n",
              "      <th id=\"T_ca541_level0_row2\" class=\"row_heading level0 row2\" >x3</th>\n",
              "      <td id=\"T_ca541_row2_col0\" class=\"data row2 col0\" >1.00</td>\n",
              "      <td id=\"T_ca541_row2_col1\" class=\"data row2 col1\" >0.07</td>\n",
              "      <td id=\"T_ca541_row2_col2\" class=\"data row2 col2\" >0.66</td>\n",
              "      <td id=\"T_ca541_row2_col3\" class=\"data row2 col3\" >0.51</td>\n",
              "      <td id=\"T_ca541_row2_col4\" class=\"data row2 col4\" >0.02</td>\n",
              "      <td id=\"T_ca541_row2_col5\" class=\"data row2 col5\" >0.02</td>\n",
              "      <td id=\"T_ca541_row2_col6\" class=\"data row2 col6\" >1.00</td>\n",
              "    </tr>\n",
              "    <tr>\n",
              "      <th id=\"T_ca541_level0_row3\" class=\"row_heading level0 row3\" >x4_irrelevant</th>\n",
              "      <td id=\"T_ca541_row3_col0\" class=\"data row3 col0\" >0.02</td>\n",
              "      <td id=\"T_ca541_row3_col1\" class=\"data row3 col1\" >0.03</td>\n",
              "      <td id=\"T_ca541_row3_col2\" class=\"data row3 col2\" >0.14</td>\n",
              "      <td id=\"T_ca541_row3_col3\" class=\"data row3 col3\" >0.11</td>\n",
              "      <td id=\"T_ca541_row3_col4\" class=\"data row3 col4\" >0.00</td>\n",
              "      <td id=\"T_ca541_row3_col5\" class=\"data row3 col5\" >0.00</td>\n",
              "      <td id=\"T_ca541_row3_col6\" class=\"data row3 col6\" >0.33</td>\n",
              "    </tr>\n",
              "    <tr>\n",
              "      <th id=\"T_ca541_level0_row4\" class=\"row_heading level0 row4\" >x5_irrelevant</th>\n",
              "      <td id=\"T_ca541_row4_col0\" class=\"data row4 col0\" >0.01</td>\n",
              "      <td id=\"T_ca541_row4_col1\" class=\"data row4 col1\" >0.00</td>\n",
              "      <td id=\"T_ca541_row4_col2\" class=\"data row4 col2\" >0.00</td>\n",
              "      <td id=\"T_ca541_row4_col3\" class=\"data row4 col3\" >0.00</td>\n",
              "      <td id=\"T_ca541_row4_col4\" class=\"data row4 col4\" >0.00</td>\n",
              "      <td id=\"T_ca541_row4_col5\" class=\"data row4 col5\" >0.00</td>\n",
              "      <td id=\"T_ca541_row4_col6\" class=\"data row4 col6\" >0.50</td>\n",
              "    </tr>\n",
              "    <tr>\n",
              "      <th id=\"T_ca541_level0_row5\" class=\"row_heading level0 row5\" >x6_irrelevant</th>\n",
              "      <td id=\"T_ca541_row5_col0\" class=\"data row5 col0\" >0.01</td>\n",
              "      <td id=\"T_ca541_row5_col1\" class=\"data row5 col1\" >0.01</td>\n",
              "      <td id=\"T_ca541_row5_col2\" class=\"data row5 col2\" >0.03</td>\n",
              "      <td id=\"T_ca541_row5_col3\" class=\"data row5 col3\" >0.03</td>\n",
              "      <td id=\"T_ca541_row5_col4\" class=\"data row5 col4\" >0.00</td>\n",
              "      <td id=\"T_ca541_row5_col5\" class=\"data row5 col5\" >0.00</td>\n",
              "      <td id=\"T_ca541_row5_col6\" class=\"data row5 col6\" >0.00</td>\n",
              "    </tr>\n",
              "    <tr>\n",
              "      <th id=\"T_ca541_level0_row6\" class=\"row_heading level0 row6\" >x7_irrelevant</th>\n",
              "      <td id=\"T_ca541_row6_col0\" class=\"data row6 col0\" >0.00</td>\n",
              "      <td id=\"T_ca541_row6_col1\" class=\"data row6 col1\" >0.00</td>\n",
              "      <td id=\"T_ca541_row6_col2\" class=\"data row6 col2\" >0.03</td>\n",
              "      <td id=\"T_ca541_row6_col3\" class=\"data row6 col3\" >0.03</td>\n",
              "      <td id=\"T_ca541_row6_col4\" class=\"data row6 col4\" >0.00</td>\n",
              "      <td id=\"T_ca541_row6_col5\" class=\"data row6 col5\" >0.00</td>\n",
              "      <td id=\"T_ca541_row6_col6\" class=\"data row6 col6\" >0.17</td>\n",
              "    </tr>\n",
              "    <tr>\n",
              "      <th id=\"T_ca541_level0_row7\" class=\"row_heading level0 row7\" >x8_corr_x1</th>\n",
              "      <td id=\"T_ca541_row7_col0\" class=\"data row7 col0\" >0.00</td>\n",
              "      <td id=\"T_ca541_row7_col1\" class=\"data row7 col1\" >0.93</td>\n",
              "      <td id=\"T_ca541_row7_col2\" class=\"data row7 col2\" >1.00</td>\n",
              "      <td id=\"T_ca541_row7_col3\" class=\"data row7 col3\" >1.00</td>\n",
              "      <td id=\"T_ca541_row7_col4\" class=\"data row7 col4\" >0.17</td>\n",
              "      <td id=\"T_ca541_row7_col5\" class=\"data row7 col5\" >0.03</td>\n",
              "      <td id=\"T_ca541_row7_col6\" class=\"data row7 col6\" >1.00</td>\n",
              "    </tr>\n",
              "    <tr>\n",
              "      <th id=\"T_ca541_level0_row8\" class=\"row_heading level0 row8\" >x9_corr_x2</th>\n",
              "      <td id=\"T_ca541_row8_col0\" class=\"data row8 col0\" >0.63</td>\n",
              "      <td id=\"T_ca541_row8_col1\" class=\"data row8 col1\" >0.02</td>\n",
              "      <td id=\"T_ca541_row8_col2\" class=\"data row8 col2\" >0.14</td>\n",
              "      <td id=\"T_ca541_row8_col3\" class=\"data row8 col3\" >0.11</td>\n",
              "      <td id=\"T_ca541_row8_col4\" class=\"data row8 col4\" >0.00</td>\n",
              "      <td id=\"T_ca541_row8_col5\" class=\"data row8 col5\" >0.00</td>\n",
              "      <td id=\"T_ca541_row8_col6\" class=\"data row8 col6\" >0.67</td>\n",
              "    </tr>\n",
              "    <tr>\n",
              "      <th id=\"T_ca541_level0_row9\" class=\"row_heading level0 row9\" >x10_corr_x3</th>\n",
              "      <td id=\"T_ca541_row9_col0\" class=\"data row9 col0\" >0.81</td>\n",
              "      <td id=\"T_ca541_row9_col1\" class=\"data row9 col1\" >0.03</td>\n",
              "      <td id=\"T_ca541_row9_col2\" class=\"data row9 col2\" >0.18</td>\n",
              "      <td id=\"T_ca541_row9_col3\" class=\"data row9 col3\" >0.14</td>\n",
              "      <td id=\"T_ca541_row9_col4\" class=\"data row9 col4\" >0.01</td>\n",
              "      <td id=\"T_ca541_row9_col5\" class=\"data row9 col5\" >0.01</td>\n",
              "      <td id=\"T_ca541_row9_col6\" class=\"data row9 col6\" >0.83</td>\n",
              "    </tr>\n",
              "  </tbody>\n",
              "</table>\n"
            ]
          },
          "metadata": {},
          "execution_count": 19
        }
      ],
      "source": [
        "from sklearn.feature_selection import RFECV\n",
        "\n",
        "# use RFECV to select features\n",
        "rfe = RFECV(random_forest, n_jobs=-1, verbose=True, step=1, cv=3)\n",
        "rfe.fit(X_train, y_train)\n",
        "\n",
        "print(f\"Optimal number of features: {rfe.n_features_}\")\n",
        "print(f\"Selected features: {rfe.support_}\")\n",
        "print(f\"Ranking of features: {rfe.ranking_}\")\n",
        "\n",
        "feature_scores['RFECV'] = scaler.fit_transform(-rfe.ranking_.astype(float).reshape(-1, 1))\n",
        "feature_scores.style.format(precision=2).background_gradient(cmap='Reds', high=1.01)\n",
        "\n",
        "#Optional: Use the selected features for training\n",
        "#X_train_selected = X_train[:, rfecv.support_]\n",
        "#X_test_selected = X_test[:, rfecv.support_]\n",
        "\n",
        "# Fit model again using only selected features\n",
        "#model.fit(X_train_selected, y_train)\n"
      ]
    },
    {
      "cell_type": "markdown",
      "metadata": {
        "id": "TOcAu4u3P6GD"
      },
      "source": [
        "### Task. Calculate quality of the model with the selected features\n",
        "\n",
        "\n",
        "* Use RandomForestRegression\n",
        "* Use test set and model's `score()` function to calculate model error\n",
        "* Try F-test, RandomForest embedded feature importances, Permutation Importance and RFECV\n",
        "* Select 5 features for each feature importance method"
      ]
    },
    {
      "cell_type": "code",
      "execution_count": 20,
      "metadata": {
        "id": "BSgYb8peP6GD"
      },
      "outputs": [],
      "source": [
        "def compare_methods(model, X_train, y_train, X_val, y_val, X_test, y_test, feature_names):\n",
        "    methods = {\n",
        "        'F test': lambda X, y, X_val, y_val: f_regression(X, y)[0],\n",
        "\n",
        "        'RandomForest': lambda X, y, X_val, y_val: model.fit(X, y).feature_importances_,\n",
        "\n",
        "        'PermutationImportance': lambda X, y, X_val, y_val: get_permutation_importance(\n",
        "            model.fit(X, y), X_val, y_val),\n",
        "\n",
        "        'RFECV': lambda X, y, X_val, y_val: -RFECV(\n",
        "            model, n_jobs=-1, step=1, cv=3).fit(X, y).ranking_\n",
        "    }\n",
        "\n",
        "    #model_scores = pd.DataFrame(columns=list(methods.keys()))\n",
        "    model_scores = {}\n",
        "\n",
        "    for fs_method in methods:\n",
        "        scores = methods[fs_method](X_train, y_train, X_val, y_val)\n",
        "        features_idx = np.argsort(-scores)[:5]\n",
        "        # Print top feature names\n",
        "        top_feature_names = [feature_names[i] for i in features_idx]\n",
        "        print(f\"🔹 **{fs_method} - Top 5 Features:** {top_feature_names}\\n\")\n",
        "        model.fit(X_train[:, features_idx], y_train)\n",
        "        model_scores[fs_method] = [model.score(X_test[:, features_idx], y_test)]\n",
        "\n",
        "    return model_scores"
      ]
    },
    {
      "cell_type": "code",
      "execution_count": 21,
      "metadata": {
        "colab": {
          "base_uri": "https://localhost:8080/"
        },
        "id": "UHbgqey7P6GD",
        "outputId": "c476a2f4-1806-4e5b-9044-c6679da9d5ed"
      },
      "outputs": [
        {
          "output_type": "stream",
          "name": "stdout",
          "text": [
            "🔹 **F test - Top 5 Features:** ['x3', 'x10_corr_x3', 'x2', 'x9_corr_x2', 'x4_irrelevant']\n",
            "\n",
            "🔹 **RandomForest - Top 5 Features:** ['x1', 'x8_corr_x1', 'x3', 'x2', 'x10_corr_x3']\n",
            "\n",
            "🔹 **PermutationImportance - Top 5 Features:** ['x1', 'x8_corr_x1', 'x3', 'x2', 'x10_corr_x3']\n",
            "\n",
            "🔹 **RFECV - Top 5 Features:** ['x1', 'x2', 'x3', 'x8_corr_x1', 'x10_corr_x3']\n",
            "\n"
          ]
        },
        {
          "output_type": "execute_result",
          "data": {
            "text/plain": [
              "{'F test': [-0.07577470709989598],\n",
              " 'RandomForest': [0.986460460871047],\n",
              " 'PermutationImportance': [0.9865124389427276],\n",
              " 'RFECV': [0.9866180688238027]}"
            ]
          },
          "metadata": {},
          "execution_count": 21
        }
      ],
      "source": [
        "compare_methods(random_forest, X_train, y_train, X_val, y_val, X_test, y_test, feature_names)"
      ]
    },
    {
      "cell_type": "code",
      "execution_count": null,
      "metadata": {
        "id": "lY4ehmS7P6GD"
      },
      "outputs": [],
      "source": [
        "results = [compare_methods(random_forest, X_train, y_train, X_val, y_val, X_test, y_test) for _ in range(10)]"
      ]
    },
    {
      "cell_type": "code",
      "execution_count": null,
      "metadata": {
        "colab": {
          "base_uri": "https://localhost:8080/",
          "height": 300
        },
        "id": "ngDWUcXWP6GD",
        "outputId": "cd44fcc0-2792-4e48-9b19-93f8d980cc0b"
      },
      "outputs": [
        {
          "output_type": "execute_result",
          "data": {
            "text/plain": [
              "          F test  RandomForest  PermutationImportance      RFECV\n",
              "count  10.000000     10.000000              10.000000  10.000000\n",
              "mean   -0.074634      0.986551               0.986267   0.986440\n",
              "std     0.007132      0.000257               0.000342   0.000127\n",
              "min    -0.086328      0.986137               0.985751   0.986223\n",
              "25%    -0.076708      0.986409               0.986025   0.986349\n",
              "50%    -0.074205      0.986532               0.986228   0.986461\n",
              "75%    -0.070591      0.986796               0.986455   0.986506\n",
              "max    -0.063550      0.986859               0.986866   0.986643"
            ],
            "text/html": [
              "\n",
              "  <div id=\"df-793acca9-f102-4bc9-be7f-5018aa049027\" class=\"colab-df-container\">\n",
              "    <div>\n",
              "<style scoped>\n",
              "    .dataframe tbody tr th:only-of-type {\n",
              "        vertical-align: middle;\n",
              "    }\n",
              "\n",
              "    .dataframe tbody tr th {\n",
              "        vertical-align: top;\n",
              "    }\n",
              "\n",
              "    .dataframe thead th {\n",
              "        text-align: right;\n",
              "    }\n",
              "</style>\n",
              "<table border=\"1\" class=\"dataframe\">\n",
              "  <thead>\n",
              "    <tr style=\"text-align: right;\">\n",
              "      <th></th>\n",
              "      <th>F test</th>\n",
              "      <th>RandomForest</th>\n",
              "      <th>PermutationImportance</th>\n",
              "      <th>RFECV</th>\n",
              "    </tr>\n",
              "  </thead>\n",
              "  <tbody>\n",
              "    <tr>\n",
              "      <th>count</th>\n",
              "      <td>10.000000</td>\n",
              "      <td>10.000000</td>\n",
              "      <td>10.000000</td>\n",
              "      <td>10.000000</td>\n",
              "    </tr>\n",
              "    <tr>\n",
              "      <th>mean</th>\n",
              "      <td>-0.074634</td>\n",
              "      <td>0.986551</td>\n",
              "      <td>0.986267</td>\n",
              "      <td>0.986440</td>\n",
              "    </tr>\n",
              "    <tr>\n",
              "      <th>std</th>\n",
              "      <td>0.007132</td>\n",
              "      <td>0.000257</td>\n",
              "      <td>0.000342</td>\n",
              "      <td>0.000127</td>\n",
              "    </tr>\n",
              "    <tr>\n",
              "      <th>min</th>\n",
              "      <td>-0.086328</td>\n",
              "      <td>0.986137</td>\n",
              "      <td>0.985751</td>\n",
              "      <td>0.986223</td>\n",
              "    </tr>\n",
              "    <tr>\n",
              "      <th>25%</th>\n",
              "      <td>-0.076708</td>\n",
              "      <td>0.986409</td>\n",
              "      <td>0.986025</td>\n",
              "      <td>0.986349</td>\n",
              "    </tr>\n",
              "    <tr>\n",
              "      <th>50%</th>\n",
              "      <td>-0.074205</td>\n",
              "      <td>0.986532</td>\n",
              "      <td>0.986228</td>\n",
              "      <td>0.986461</td>\n",
              "    </tr>\n",
              "    <tr>\n",
              "      <th>75%</th>\n",
              "      <td>-0.070591</td>\n",
              "      <td>0.986796</td>\n",
              "      <td>0.986455</td>\n",
              "      <td>0.986506</td>\n",
              "    </tr>\n",
              "    <tr>\n",
              "      <th>max</th>\n",
              "      <td>-0.063550</td>\n",
              "      <td>0.986859</td>\n",
              "      <td>0.986866</td>\n",
              "      <td>0.986643</td>\n",
              "    </tr>\n",
              "  </tbody>\n",
              "</table>\n",
              "</div>\n",
              "    <div class=\"colab-df-buttons\">\n",
              "\n",
              "  <div class=\"colab-df-container\">\n",
              "    <button class=\"colab-df-convert\" onclick=\"convertToInteractive('df-793acca9-f102-4bc9-be7f-5018aa049027')\"\n",
              "            title=\"Convert this dataframe to an interactive table.\"\n",
              "            style=\"display:none;\">\n",
              "\n",
              "  <svg xmlns=\"http://www.w3.org/2000/svg\" height=\"24px\" viewBox=\"0 -960 960 960\">\n",
              "    <path d=\"M120-120v-720h720v720H120Zm60-500h600v-160H180v160Zm220 220h160v-160H400v160Zm0 220h160v-160H400v160ZM180-400h160v-160H180v160Zm440 0h160v-160H620v160ZM180-180h160v-160H180v160Zm440 0h160v-160H620v160Z\"/>\n",
              "  </svg>\n",
              "    </button>\n",
              "\n",
              "  <style>\n",
              "    .colab-df-container {\n",
              "      display:flex;\n",
              "      gap: 12px;\n",
              "    }\n",
              "\n",
              "    .colab-df-convert {\n",
              "      background-color: #E8F0FE;\n",
              "      border: none;\n",
              "      border-radius: 50%;\n",
              "      cursor: pointer;\n",
              "      display: none;\n",
              "      fill: #1967D2;\n",
              "      height: 32px;\n",
              "      padding: 0 0 0 0;\n",
              "      width: 32px;\n",
              "    }\n",
              "\n",
              "    .colab-df-convert:hover {\n",
              "      background-color: #E2EBFA;\n",
              "      box-shadow: 0px 1px 2px rgba(60, 64, 67, 0.3), 0px 1px 3px 1px rgba(60, 64, 67, 0.15);\n",
              "      fill: #174EA6;\n",
              "    }\n",
              "\n",
              "    .colab-df-buttons div {\n",
              "      margin-bottom: 4px;\n",
              "    }\n",
              "\n",
              "    [theme=dark] .colab-df-convert {\n",
              "      background-color: #3B4455;\n",
              "      fill: #D2E3FC;\n",
              "    }\n",
              "\n",
              "    [theme=dark] .colab-df-convert:hover {\n",
              "      background-color: #434B5C;\n",
              "      box-shadow: 0px 1px 3px 1px rgba(0, 0, 0, 0.15);\n",
              "      filter: drop-shadow(0px 1px 2px rgba(0, 0, 0, 0.3));\n",
              "      fill: #FFFFFF;\n",
              "    }\n",
              "  </style>\n",
              "\n",
              "    <script>\n",
              "      const buttonEl =\n",
              "        document.querySelector('#df-793acca9-f102-4bc9-be7f-5018aa049027 button.colab-df-convert');\n",
              "      buttonEl.style.display =\n",
              "        google.colab.kernel.accessAllowed ? 'block' : 'none';\n",
              "\n",
              "      async function convertToInteractive(key) {\n",
              "        const element = document.querySelector('#df-793acca9-f102-4bc9-be7f-5018aa049027');\n",
              "        const dataTable =\n",
              "          await google.colab.kernel.invokeFunction('convertToInteractive',\n",
              "                                                    [key], {});\n",
              "        if (!dataTable) return;\n",
              "\n",
              "        const docLinkHtml = 'Like what you see? Visit the ' +\n",
              "          '<a target=\"_blank\" href=https://colab.research.google.com/notebooks/data_table.ipynb>data table notebook</a>'\n",
              "          + ' to learn more about interactive tables.';\n",
              "        element.innerHTML = '';\n",
              "        dataTable['output_type'] = 'display_data';\n",
              "        await google.colab.output.renderOutput(dataTable, element);\n",
              "        const docLink = document.createElement('div');\n",
              "        docLink.innerHTML = docLinkHtml;\n",
              "        element.appendChild(docLink);\n",
              "      }\n",
              "    </script>\n",
              "  </div>\n",
              "\n",
              "\n",
              "<div id=\"df-6d799f3b-c7a3-4405-bac2-f498b06e04ed\">\n",
              "  <button class=\"colab-df-quickchart\" onclick=\"quickchart('df-6d799f3b-c7a3-4405-bac2-f498b06e04ed')\"\n",
              "            title=\"Suggest charts\"\n",
              "            style=\"display:none;\">\n",
              "\n",
              "<svg xmlns=\"http://www.w3.org/2000/svg\" height=\"24px\"viewBox=\"0 0 24 24\"\n",
              "     width=\"24px\">\n",
              "    <g>\n",
              "        <path d=\"M19 3H5c-1.1 0-2 .9-2 2v14c0 1.1.9 2 2 2h14c1.1 0 2-.9 2-2V5c0-1.1-.9-2-2-2zM9 17H7v-7h2v7zm4 0h-2V7h2v10zm4 0h-2v-4h2v4z\"/>\n",
              "    </g>\n",
              "</svg>\n",
              "  </button>\n",
              "\n",
              "<style>\n",
              "  .colab-df-quickchart {\n",
              "      --bg-color: #E8F0FE;\n",
              "      --fill-color: #1967D2;\n",
              "      --hover-bg-color: #E2EBFA;\n",
              "      --hover-fill-color: #174EA6;\n",
              "      --disabled-fill-color: #AAA;\n",
              "      --disabled-bg-color: #DDD;\n",
              "  }\n",
              "\n",
              "  [theme=dark] .colab-df-quickchart {\n",
              "      --bg-color: #3B4455;\n",
              "      --fill-color: #D2E3FC;\n",
              "      --hover-bg-color: #434B5C;\n",
              "      --hover-fill-color: #FFFFFF;\n",
              "      --disabled-bg-color: #3B4455;\n",
              "      --disabled-fill-color: #666;\n",
              "  }\n",
              "\n",
              "  .colab-df-quickchart {\n",
              "    background-color: var(--bg-color);\n",
              "    border: none;\n",
              "    border-radius: 50%;\n",
              "    cursor: pointer;\n",
              "    display: none;\n",
              "    fill: var(--fill-color);\n",
              "    height: 32px;\n",
              "    padding: 0;\n",
              "    width: 32px;\n",
              "  }\n",
              "\n",
              "  .colab-df-quickchart:hover {\n",
              "    background-color: var(--hover-bg-color);\n",
              "    box-shadow: 0 1px 2px rgba(60, 64, 67, 0.3), 0 1px 3px 1px rgba(60, 64, 67, 0.15);\n",
              "    fill: var(--button-hover-fill-color);\n",
              "  }\n",
              "\n",
              "  .colab-df-quickchart-complete:disabled,\n",
              "  .colab-df-quickchart-complete:disabled:hover {\n",
              "    background-color: var(--disabled-bg-color);\n",
              "    fill: var(--disabled-fill-color);\n",
              "    box-shadow: none;\n",
              "  }\n",
              "\n",
              "  .colab-df-spinner {\n",
              "    border: 2px solid var(--fill-color);\n",
              "    border-color: transparent;\n",
              "    border-bottom-color: var(--fill-color);\n",
              "    animation:\n",
              "      spin 1s steps(1) infinite;\n",
              "  }\n",
              "\n",
              "  @keyframes spin {\n",
              "    0% {\n",
              "      border-color: transparent;\n",
              "      border-bottom-color: var(--fill-color);\n",
              "      border-left-color: var(--fill-color);\n",
              "    }\n",
              "    20% {\n",
              "      border-color: transparent;\n",
              "      border-left-color: var(--fill-color);\n",
              "      border-top-color: var(--fill-color);\n",
              "    }\n",
              "    30% {\n",
              "      border-color: transparent;\n",
              "      border-left-color: var(--fill-color);\n",
              "      border-top-color: var(--fill-color);\n",
              "      border-right-color: var(--fill-color);\n",
              "    }\n",
              "    40% {\n",
              "      border-color: transparent;\n",
              "      border-right-color: var(--fill-color);\n",
              "      border-top-color: var(--fill-color);\n",
              "    }\n",
              "    60% {\n",
              "      border-color: transparent;\n",
              "      border-right-color: var(--fill-color);\n",
              "    }\n",
              "    80% {\n",
              "      border-color: transparent;\n",
              "      border-right-color: var(--fill-color);\n",
              "      border-bottom-color: var(--fill-color);\n",
              "    }\n",
              "    90% {\n",
              "      border-color: transparent;\n",
              "      border-bottom-color: var(--fill-color);\n",
              "    }\n",
              "  }\n",
              "</style>\n",
              "\n",
              "  <script>\n",
              "    async function quickchart(key) {\n",
              "      const quickchartButtonEl =\n",
              "        document.querySelector('#' + key + ' button');\n",
              "      quickchartButtonEl.disabled = true;  // To prevent multiple clicks.\n",
              "      quickchartButtonEl.classList.add('colab-df-spinner');\n",
              "      try {\n",
              "        const charts = await google.colab.kernel.invokeFunction(\n",
              "            'suggestCharts', [key], {});\n",
              "      } catch (error) {\n",
              "        console.error('Error during call to suggestCharts:', error);\n",
              "      }\n",
              "      quickchartButtonEl.classList.remove('colab-df-spinner');\n",
              "      quickchartButtonEl.classList.add('colab-df-quickchart-complete');\n",
              "    }\n",
              "    (() => {\n",
              "      let quickchartButtonEl =\n",
              "        document.querySelector('#df-6d799f3b-c7a3-4405-bac2-f498b06e04ed button');\n",
              "      quickchartButtonEl.style.display =\n",
              "        google.colab.kernel.accessAllowed ? 'block' : 'none';\n",
              "    })();\n",
              "  </script>\n",
              "</div>\n",
              "    </div>\n",
              "  </div>\n"
            ],
            "application/vnd.google.colaboratory.intrinsic+json": {
              "type": "dataframe",
              "summary": "{\n  \"name\": \"pd\",\n  \"rows\": 8,\n  \"fields\": [\n    {\n      \"column\": \"F test\",\n      \"properties\": {\n        \"dtype\": \"number\",\n        \"std\": 3.5578207611287866,\n        \"min\": -0.08632811315681854,\n        \"max\": 10.0,\n        \"num_unique_values\": 8,\n        \"samples\": [\n          -0.07463404313930042,\n          -0.07420507874450277,\n          10.0\n        ],\n        \"semantic_type\": \"\",\n        \"description\": \"\"\n      }\n    },\n    {\n      \"column\": \"RandomForest\",\n      \"properties\": {\n        \"dtype\": \"number\",\n        \"std\": 3.254901289092754,\n        \"min\": 0.00025743046782871886,\n        \"max\": 10.0,\n        \"num_unique_values\": 8,\n        \"samples\": [\n          0.9865512252548683,\n          0.9865318117921142,\n          10.0\n        ],\n        \"semantic_type\": \"\",\n        \"description\": \"\"\n      }\n    },\n    {\n      \"column\": \"PermutationImportance\",\n      \"properties\": {\n        \"dtype\": \"number\",\n        \"std\": 3.2549684634995075,\n        \"min\": 0.00034151706656310903,\n        \"max\": 10.0,\n        \"num_unique_values\": 8,\n        \"samples\": [\n          0.9862674619859059,\n          0.9862283923719827,\n          10.0\n        ],\n        \"semantic_type\": \"\",\n        \"description\": \"\"\n      }\n    },\n    {\n      \"column\": \"RFECV\",\n      \"properties\": {\n        \"dtype\": \"number\",\n        \"std\": 3.2549419009119807,\n        \"min\": 0.00012682313538969552,\n        \"max\": 10.0,\n        \"num_unique_values\": 8,\n        \"samples\": [\n          0.9864396311149457,\n          0.986460901870353,\n          10.0\n        ],\n        \"semantic_type\": \"\",\n        \"description\": \"\"\n      }\n    }\n  ]\n}"
            }
          },
          "metadata": {},
          "execution_count": 29
        }
      ],
      "source": [
        "pd.concat(results, axis=0, ignore_index=True).describe()"
      ]
    },
    {
      "cell_type": "markdown",
      "source": [
        "###Test on new dataset (california_housing)"
      ],
      "metadata": {
        "id": "cyotFqv2vzTh"
      }
    },
    {
      "cell_type": "code",
      "source": [
        "from sklearn.datasets import fetch_california_housing\n",
        "\n",
        "data = fetch_california_housing()\n",
        "\n",
        "df = pd.DataFrame(data.data, columns=data.feature_names)\n",
        "df['Target'] = data.target\n",
        "print(df.head())\n",
        "\n",
        "\n",
        "X_cal, y_cal = data.data, data.target\n",
        "\n",
        "feature_names_cal = data.feature_names\n",
        "\n",
        "X_train_cal, X_temp, y_train_cal, y_temp = train_test_split(X_cal, y_cal, test_size=0.4, random_state=42)\n",
        "X_val_cal, X_test_cal, y_val_cal, y_test_cal = train_test_split(X_temp, y_temp, test_size=0.5, random_state=42)\n"
      ],
      "metadata": {
        "colab": {
          "base_uri": "https://localhost:8080/"
        },
        "id": "2riIfRiGHJwk",
        "outputId": "13785782-9578-4627-9c9f-1e146c43a3ae"
      },
      "execution_count": 22,
      "outputs": [
        {
          "output_type": "stream",
          "name": "stdout",
          "text": [
            "   MedInc  HouseAge  AveRooms  AveBedrms  Population  AveOccup  Latitude  \\\n",
            "0  8.3252      41.0  6.984127   1.023810       322.0  2.555556     37.88   \n",
            "1  8.3014      21.0  6.238137   0.971880      2401.0  2.109842     37.86   \n",
            "2  7.2574      52.0  8.288136   1.073446       496.0  2.802260     37.85   \n",
            "3  5.6431      52.0  5.817352   1.073059       558.0  2.547945     37.85   \n",
            "4  3.8462      52.0  6.281853   1.081081       565.0  2.181467     37.85   \n",
            "\n",
            "   Longitude  Target  \n",
            "0    -122.23   4.526  \n",
            "1    -122.22   3.585  \n",
            "2    -122.24   3.521  \n",
            "3    -122.25   3.413  \n",
            "4    -122.25   3.422  \n"
          ]
        }
      ]
    },
    {
      "cell_type": "code",
      "source": [
        "compare_methods(random_forest, X_train_cal, y_train_cal, X_val_cal, y_val_cal, X_test_cal, y_test_cal, feature_names= feature_names_cal)"
      ],
      "metadata": {
        "colab": {
          "base_uri": "https://localhost:8080/"
        },
        "id": "GGceuz5iKAO5",
        "outputId": "b71b7126-6642-4fad-d4fd-56ab23c4b5c8"
      },
      "execution_count": 23,
      "outputs": [
        {
          "output_type": "stream",
          "name": "stdout",
          "text": [
            "🔹 **F test - Top 5 Features:** ['MedInc', 'AveRooms', 'Latitude', 'HouseAge', 'Longitude']\n",
            "\n",
            "🔹 **RandomForest - Top 5 Features:** ['MedInc', 'AveOccup', 'Longitude', 'Latitude', 'HouseAge']\n",
            "\n",
            "🔹 **PermutationImportance - Top 5 Features:** ['MedInc', 'Latitude', 'Longitude', 'AveOccup', 'HouseAge']\n",
            "\n",
            "🔹 **RFECV - Top 5 Features:** ['MedInc', 'AveRooms', 'AveOccup', 'Latitude', 'Longitude']\n",
            "\n"
          ]
        },
        {
          "output_type": "execute_result",
          "data": {
            "text/plain": [
              "{'F test': [0.7952346977143988],\n",
              " 'RandomForest': [0.8026570391622138],\n",
              " 'PermutationImportance': [0.8023963217358917],\n",
              " 'RFECV': [0.8030867592504145]}"
            ]
          },
          "metadata": {},
          "execution_count": 23
        }
      ]
    },
    {
      "cell_type": "markdown",
      "source": [
        "# Bonus Task"
      ],
      "metadata": {
        "id": "Vcc6jJ1isx0d"
      }
    },
    {
      "cell_type": "markdown",
      "metadata": {
        "id": "c2-ib0-hP6GE"
      },
      "source": [
        "# Information Criteria-Based Selection (Balancing Fit and Complexity)\n",
        "\n",
        "\n",
        "### Akaike Information Criterion (AIC)\n",
        "\n",
        "Akaike Information Criterion (**AIC**) is a measure used for **model selection**, balancing **good fit** and **low complexity** to prevent overfitting. It is based on information theory and estimates the relative quality of statistical models for a given dataset.\n",
        "\n",
        "#### Mathematical Formula\n",
        "$\n",
        "\\mathrm{AIC} = 2k - 2\\ln(\\hat{L})\n",
        "$\n",
        "where:  \n",
        "- $ k $ = Number of estimated parameters in the model (complexity).  \n",
        "- $ \\hat{L} $ = Maximum value of the likelihood function (model fit).  \n",
        "\n",
        "#### Notes:\n",
        "- **Minimizing AIC** → Indicates a model that achieves good fit **without unnecessary complexity**.  \n",
        "- **AIC rewards likelihood** (better fit improves AIC).  \n",
        "- **AIC penalizes complexity** (more parameters increase AIC, discouraging overfitting).  \n",
        "\n",
        "#### Theoretical Foundation (Information Theory)\n",
        "AIC is derived from **Kullback–Leibler (KL) divergence**, which measures the information loss when approximating the true data-generating process \\( f \\) with a model \\( M \\).  \n",
        "Given two candidate models, \\( M_1 \\) and \\( M_2 \\), AIC provides an estimate of the additional information lost when using \\( M_1 \\) instead of \\( M_2 \\).  \n",
        "\n",
        "**AIC is valid only asymptotically** and should be used for comparing models fitted on the same dataset.  \n",
        "\n"
      ]
    },
    {
      "cell_type": "markdown",
      "metadata": {
        "id": "40vsP3jgP6GE"
      },
      "source": [
        "### Bayesian Information Criterion (BIC)\n",
        "\n",
        "The **Bayesian Information Criterion (BIC)** is a model selection criterion used to compare different models by balancing **good fit** and **low complexity**. It is similar to AIC but applies a **stronger penalty** for model complexity, especially when the sample size is large.\n",
        "\n",
        "#### Mathematical Formula\n",
        "$\n",
        "BIC = k \\ln(n) - 2\\ln(\\hat{L})\n",
        "$\n",
        "where:  \n",
        "- $k$ = Number of estimated parameters (model complexity).  \n",
        "- $n$ = Number of data points (sample size).  \n",
        "- $ \\hat{L} $ = Maximum likelihood of the model (fit quality).  \n",
        "\n",
        "#### How to Interpret BIC?\n",
        "- **Lower BIC values indicate better models** (if they are not overly complex).  \n",
        "- **BIC penalizes complexity more than AIC**, favoring simpler models as \\( n \\) increases.  \n",
        "- **Used to compare models** on the same dataset.  \n",
        "\n",
        "####  **AIC vs. BIC**\n",
        "| **Criterion** | **AIC** | **BIC** |\n",
        "|--------------|--------|--------|\n",
        "| **Formula** | $2k - 2\\ln(L) $ | $ k \\ln(n) - 2\\ln(L) $ |\n",
        "| **Penalty on Complexity** | Moderate | Stronger (depends on \\( n \\)) |\n",
        "| **Model Preference** | Allows more complexity | Prefers simpler models for large \\( n \\) |\n",
        "\n",
        "**BIC is best suited for cases where avoiding overfitting is critical.\n"
      ]
    },
    {
      "cell_type": "markdown",
      "metadata": {
        "id": "wKYMfGdAP6GE"
      },
      "source": [
        "### Task 4. Use LassoLarsIC to choose optimal alpha based on AIC and BIC\n",
        "\n",
        "LassoLarsIC (Lasso Least Angle Regression with Information Criterion) is a method for selecting the optimal regularization parameter $$in Lasso regression.\n",
        "It automatically finds the best α by minimizing either AIC or BIC.\n",
        "\n",
        "#### What is α in Lasso?\n",
        "\n",
        "α is the regularization parameter that controls the amount of shrinkage applied to the regression coefficients.\n",
        "\n",
        "Higher α >> more regularization → More coefficients shrink to zero (simpler model).\n",
        "\n",
        "Lower  α >> less regularization → More non-zero coefficients (more complex model).\n",
        "\n",
        "#### Why Use AIC and BIC to Select α?\n",
        "AIC and BIC help choose the best α by balancing model fit and complexity.\n",
        "\n",
        "AIC favors models with better predictive performance (even if slightly more complex).\n",
        "\n",
        "BIC favors simpler models, penalizing complexity more strongly.\n",
        "\n",
        "\n",
        "**Task**:\n",
        "1. choose $\\alpha$ using AIC, print non-zero feature's names\n",
        "2. choose $\\alpha$ using BIC, print non-zero feature's names\n",
        "3. Compare"
      ]
    },
    {
      "cell_type": "code",
      "execution_count": 17,
      "metadata": {
        "colab": {
          "base_uri": "https://localhost:8080/"
        },
        "id": "ehjrpKyrP6GE",
        "outputId": "cd5595b2-11b1-4615-ff58-7b160886cabb"
      },
      "outputs": [
        {
          "output_type": "stream",
          "name": "stdout",
          "text": [
            "['x2' 'x3' 'x4_irrelevant' 'x9_corr_x2' 'x10_corr_x3']\n",
            "Optimal alpha selected by AIC: 0.09155714925069174\n"
          ]
        }
      ],
      "source": [
        "from sklearn.linear_model import LassoLarsIC\n",
        "from sklearn.pipeline import make_pipeline\n",
        "# start your code here\n",
        "# print non-zero features and alpha value, better to scale the features first\n",
        "lasso_aic = make_pipeline(StandardScaler(with_mean=False), LassoLarsIC('aic'))\n",
        "lasso_aic.fit(X_train, y_train)\n",
        "print(feature_names[np.where(lasso_aic['lassolarsic'].coef_)])\n",
        "\n",
        "optimal_alpha = lasso_aic.named_steps['lassolarsic'].alpha_\n",
        "print(\"Optimal alpha selected by AIC:\", optimal_alpha)"
      ]
    },
    {
      "cell_type": "code",
      "execution_count": 18,
      "metadata": {
        "colab": {
          "base_uri": "https://localhost:8080/"
        },
        "id": "ypJXrFHLP6GE",
        "outputId": "7f685b2a-03d7-4d55-e5cd-c8efa6a63385"
      },
      "outputs": [
        {
          "output_type": "stream",
          "name": "stdout",
          "text": [
            "['x2' 'x3']\n",
            "Optimal alpha selected by BIC: 0.7817845743115706\n"
          ]
        }
      ],
      "source": [
        "# start your code here\n",
        "# print non-zero features and alpha value, better to scale the features first\n",
        "\n",
        "lasso_bic = make_pipeline(StandardScaler(with_mean=False), LassoLarsIC('bic'))\n",
        "lasso_bic.fit(X_train, y_train)\n",
        "print(feature_names[np.where(lasso_bic['lassolarsic'].coef_)])\n",
        "\n",
        "optimal_alpha = lasso_bic.named_steps['lassolarsic'].alpha_\n",
        "print(\"Optimal alpha selected by BIC:\", optimal_alpha)\n"
      ]
    },
    {
      "cell_type": "markdown",
      "source": [
        "#### Note: both are weak to capture non linear features"
      ],
      "metadata": {
        "id": "wIPxG4OIw05_"
      }
    }
  ],
  "metadata": {
    "colab": {
      "provenance": []
    },
    "kernelspec": {
      "display_name": "Python 3",
      "language": "python",
      "name": "python3"
    },
    "language_info": {
      "codemirror_mode": {
        "name": "ipython",
        "version": 3
      },
      "file_extension": ".py",
      "mimetype": "text/x-python",
      "name": "python",
      "nbconvert_exporter": "python",
      "pygments_lexer": "ipython3",
      "version": "3.7.4"
    }
  },
  "nbformat": 4,
  "nbformat_minor": 0
}